{
 "cells": [
  {
   "cell_type": "markdown",
   "metadata": {},
   "source": [
    "# Données du projet\n",
    "\n",
    "Nous allons découvrir dans ce TP les [données utilisées](https://opendata.paris.fr/explore/dataset/horodateurs-transactions-de-paiement/) dans le projet à rendre, qui sont l'ensemble des **transactions sur les horodateurs dans la ville de Paris** sur l'année 2014. Celles-ci proviennent du site [Open Data Paris](https://opendata.paris.fr), répertoire des données ouvertes de la ville de Paris. Elles sont stockées sur le serveur *MongoDB* déjà utilisé, dans la base `horodateurs`.\n",
    "\n",
    "Elle contient deux collections principales :\n",
    "\n",
    "- `transactions` : ensemble des paiements\n",
    "- `mobiliers`: liste de tous les horodateurs\n"
   ]
  },
  {
   "cell_type": "code",
   "execution_count": 1,
   "metadata": {},
   "outputs": [
    {
     "data": {
      "text/plain": [
       "['transactions_small', 'myresults', 'transactions', 'mobiliers']"
      ]
     },
     "execution_count": 1,
     "metadata": {},
     "output_type": "execute_result"
    }
   ],
   "source": [
    "import pymongo\n",
    "import pandas\n",
    "from pprint import pprint\n",
    "\n",
    "con = pymongo.MongoClient(\"mongodb://193.51.82.104:2343/\")\n",
    "\n",
    "horo = con.horodateurs\n",
    "horo.list_collection_names()"
   ]
  },
  {
   "cell_type": "markdown",
   "metadata": {},
   "source": [
    "## Taille des données\n",
    "\n",
    "Il y a un grand nombre de transactions stockées dans la base (plus de 24 millions - cf ci-dessous)."
   ]
  },
  {
   "cell_type": "code",
   "execution_count": 2,
   "metadata": {},
   "outputs": [
    {
     "data": {
      "text/plain": [
       "24448030"
      ]
     },
     "execution_count": 2,
     "metadata": {},
     "output_type": "execute_result"
    }
   ],
   "source": [
    "horo.transactions.estimated_document_count() # estimation du dénombrement (pas exacte mais bcp plus rapide)"
   ]
  },
  {
   "cell_type": "markdown",
   "metadata": {},
   "source": [
    "Nous disposons d'un échantillon réduit de transactions (1%) permettant de tester rapidement le code qu'on souhaite exécuter (plutôt que de lancer un code erroné ou trop lourd sur l'ensemble des données)."
   ]
  },
  {
   "cell_type": "code",
   "execution_count": 3,
   "metadata": {},
   "outputs": [
    {
     "data": {
      "text/plain": [
       "244480"
      ]
     },
     "execution_count": 3,
     "metadata": {},
     "output_type": "execute_result"
    }
   ],
   "source": [
    "horo.transactions_small.count_documents({}) # anciennement count()"
   ]
  },
  {
   "cell_type": "markdown",
   "metadata": {},
   "source": [
    "Nous disposons aussi de la liste des mobiliers, c'est-à-dire des horodateurs de la ville de Paris."
   ]
  },
  {
   "cell_type": "code",
   "execution_count": 4,
   "metadata": {
    "scrolled": true
   },
   "outputs": [
    {
     "data": {
      "text/plain": [
       "7810"
      ]
     },
     "execution_count": 4,
     "metadata": {},
     "output_type": "execute_result"
    }
   ],
   "source": [
    "horo.mobiliers.count_documents({})"
   ]
  },
  {
   "cell_type": "markdown",
   "metadata": {},
   "source": [
    "Pour avoir une estimation de la taille des données, nous récupérons l'ensemble des transactions de l'échantillon réduit dans un `DataFrame`."
   ]
  },
  {
   "cell_type": "code",
   "execution_count": null,
   "metadata": {},
   "outputs": [],
   "source": [
    "trans_small = pandas.DataFrame(list(horo.transactions_small.find()))"
   ]
  },
  {
   "cell_type": "markdown",
   "metadata": {},
   "source": [
    "Il est maintenant possible de connaître la taille des données grâce à l'objet `values.nbytes` du `DataFrame` créé."
   ]
  },
  {
   "cell_type": "code",
   "execution_count": 6,
   "metadata": {},
   "outputs": [
    {
     "name": "stdout",
     "output_type": "stream",
     "text": [
      "17602560\n"
     ]
    }
   ],
   "source": [
    "print(trans_small.values.nbytes)"
   ]
  },
  {
   "cell_type": "markdown",
   "metadata": {},
   "source": [
    "L'objet finalement obtenu a donc une taille de presque 17 Mo (cf calcul ci-dessous)."
   ]
  },
  {
   "cell_type": "code",
   "execution_count": 7,
   "metadata": {},
   "outputs": [
    {
     "data": {
      "text/plain": [
       "16.787109375"
      ]
     },
     "execution_count": 7,
     "metadata": {},
     "output_type": "execute_result"
    }
   ],
   "source": [
    "trans_small.values.nbytes / (1024 * 1024) # En Mo"
   ]
  },
  {
   "cell_type": "markdown",
   "metadata": {},
   "source": [
    "Une rapide estimation pour la totalité (grâce à une règle de trois) nous permet de voir que l'objet final contenant les transactions sur toute l'année (sans pré-calcul dans *MongoDB*) aurait une taille de plus de 1.6 Go. Il va donc falloir faire attention aux calculs que l'on va lancer, et aux choix de récupération de données qu'on va faire."
   ]
  },
  {
   "cell_type": "code",
   "execution_count": 8,
   "metadata": {
    "scrolled": false
   },
   "outputs": [
    {
     "data": {
      "text/plain": [
       "1.639368161559105"
      ]
     },
     "execution_count": 8,
     "metadata": {},
     "output_type": "execute_result"
    }
   ],
   "source": [
    "trans_small.values.nbytes / (1024 ** 3) * (horo.transactions.estimated_document_count() / horo.transactions_small.estimated_document_count())"
   ]
  },
  {
   "cell_type": "markdown",
   "metadata": {
    "collapsed": true
   },
   "source": [
    "## Contenu des données\n",
    "\n",
    "Afin de mieux comprendre les données, nous affichons le premier document de chaque collection.\n",
    "\n",
    "Pour les transactions, nous avons les informations présentées dans le fichier PDF joint avec les données (cf lien au début du TP). On a en particulier le numéro de l'horodateur dans l'item `horodateur`. Celui-ci nous permettra de faire le lien avec l'autre collection."
   ]
  },
  {
   "cell_type": "code",
   "execution_count": 9,
   "metadata": {},
   "outputs": [
    {
     "name": "stdout",
     "output_type": "stream",
     "text": [
      "{'_id': ObjectId('56eaa8279fae0d71f77ea2bd'),\n",
      " 'date horodateur': datetime.datetime(2014, 1, 9, 14, 9, 47),\n",
      " 'durée payée (h)': 0.5,\n",
      " 'début stationnement': datetime.datetime(2014, 1, 9, 14, 9, 47),\n",
      " 'fin stationnement': datetime.datetime(2014, 1, 9, 14, 39, 47),\n",
      " 'horodateur': 1050,\n",
      " 'montant carte': 1.8,\n",
      " 'moyen de paiement': 'Paris Carte',\n",
      " 'usager': 'Rotatif'}\n"
     ]
    }
   ],
   "source": [
    "pprint(horo.transactions.find_one())"
   ]
  },
  {
   "cell_type": "markdown",
   "metadata": {},
   "source": [
    "Dans la collection `mobiliers`, nous avons plusieurs informations (à voir aussi dans le PD joint sur [cette page](https://opendata.paris.fr/explore/dataset/horodateurs-mobiliers/information/)). On dispose bien évidemment du numéro d'horodateurs (avec l'attribut `numhoro`), mais aussi de la localisation géographique de l'horodateur (sous différents formats, permettant leur utilisation de plusieurs façons)."
   ]
  },
  {
   "cell_type": "code",
   "execution_count": 10,
   "metadata": {
    "scrolled": false
   },
   "outputs": [
    {
     "name": "stdout",
     "output_type": "stream",
     "text": [
      "{'_id': ObjectId('56eaa4552d7eb34e4432e0fb'),\n",
      " 'datasetid': 'horodateurs-mobiliers',\n",
      " 'fields': {'adresse': '48 vis-à-vis RUE DE LISBONNE',\n",
      "            'alim': 'SOLAIRE',\n",
      "            'arrondt': 8,\n",
      "            'geo_point_2d': [48.877489999731374, 2.311394999713242],\n",
      "            'geo_shape': {'coordinates': [2.311394999713242,\n",
      "                                          48.877489999731374],\n",
      "                          'type': 'Point'},\n",
      "            'modele': 'SAB3',\n",
      "            'numhoro': 57080603,\n",
      "            'objectid': 4383,\n",
      "            'regime': 'MIX',\n",
      "            'tarif': '4,00 E MIX 2U',\n",
      "            'tarifhor': 4.0,\n",
      "            'zoneres': '8J'},\n",
      " 'geometry': {'coordinates': [2.311394999713242, 48.877489999731374],\n",
      "              'type': 'Point'},\n",
      " 'record_timestamp': '2015-12-02T17:49:46+00:00',\n",
      " 'recordid': '698c75a21ba4f4c34e72f32ea1ecd94f9de8b88c'}\n"
     ]
    }
   ],
   "source": [
    "pprint(horo.mobiliers.find_one())"
   ]
  },
  {
   "cell_type": "markdown",
   "metadata": {},
   "source": [
    "## A Faire\n",
    "\n",
    "Cette première partie à faire vous permettra de vous familariser avec les données.\n",
    "\n",
    "### Mobiliers\n",
    "\n",
    "1. Donner les différents types d'alimentation possible (`alim`) et le nombre d'horodateurs pour chaque. \n",
    "1. Donner le nombre de mobiliers pour chaque arrondissement (`arrondt`)\n",
    "1. Lister l'ensemble des modèles existants (`modele`)\n",
    "1. Croiser le régime (`regime`) et les arrondissements pour voir s'il y a des différences notables\n",
    "1. Idem avec le tarif horaire (`tarifhor`)\n",
    "\n",
    "### Transactions\n",
    "\n",
    "1. Donner la distribution des montants payés (`montant carte`) et des durées payées (`durée payée (h)`)\n",
    "1. Lister les différents moyens de paiements utilisés (`moyen de paiement`) et le type d'usager (`usager`), en ordonnant chaque table résultat par ordre décroissant du nombre de paiements\n",
    "1. Déterminer s'il existe un lien entre le moyen de paiement, et le montant d'une part et la durée d'autre part"
   ]
  },
  {
   "cell_type": "code",
   "execution_count": 4,
   "metadata": {},
   "outputs": [],
   "source": [
    "import pymongo\n",
    "import pandas\n",
    "from pprint import pprint\n",
    "import seaborn\n",
    "%matplotlib inline"
   ]
  },
  {
   "cell_type": "markdown",
   "metadata": {},
   "source": [
    "### **Mobiliers**"
   ]
  },
  {
   "cell_type": "markdown",
   "metadata": {},
   "source": [
    "- Donner les différents types d'alimentation possible (`alim`) et le nombre d'horodateurs pour chaque. "
   ]
  },
  {
   "cell_type": "code",
   "execution_count": 11,
   "metadata": {},
   "outputs": [
    {
     "name": "stdout",
     "output_type": "stream",
     "text": [
      "[{'_id': None, 'nb': 8},\n",
      " {'_id': 'PILE', 'nb': 2994},\n",
      " {'_id': 'SOLAIRE', 'nb': 4808}]\n"
     ]
    }
   ],
   "source": [
    "res = list(horo.mobiliers.aggregate([\n",
    "    { \"$group\" : { \"_id\" : \"$fields.alim\", \"nb\" : { \"$sum\" : 1}}}\n",
    "]))\n",
    "pprint(res)"
   ]
  },
  {
   "cell_type": "code",
   "execution_count": 12,
   "metadata": {},
   "outputs": [
    {
     "data": {
      "text/html": [
       "<div>\n",
       "<style scoped>\n",
       "    .dataframe tbody tr th:only-of-type {\n",
       "        vertical-align: middle;\n",
       "    }\n",
       "\n",
       "    .dataframe tbody tr th {\n",
       "        vertical-align: top;\n",
       "    }\n",
       "\n",
       "    .dataframe thead th {\n",
       "        text-align: right;\n",
       "    }\n",
       "</style>\n",
       "<table border=\"1\" class=\"dataframe\">\n",
       "  <thead>\n",
       "    <tr style=\"text-align: right;\">\n",
       "      <th></th>\n",
       "      <th>Alimentation</th>\n",
       "      <th>Effectif</th>\n",
       "    </tr>\n",
       "  </thead>\n",
       "  <tbody>\n",
       "    <tr>\n",
       "      <th>0</th>\n",
       "      <td>None</td>\n",
       "      <td>8</td>\n",
       "    </tr>\n",
       "    <tr>\n",
       "      <th>1</th>\n",
       "      <td>PILE</td>\n",
       "      <td>2994</td>\n",
       "    </tr>\n",
       "    <tr>\n",
       "      <th>2</th>\n",
       "      <td>SOLAIRE</td>\n",
       "      <td>4808</td>\n",
       "    </tr>\n",
       "  </tbody>\n",
       "</table>\n",
       "</div>"
      ],
      "text/plain": [
       "  Alimentation  Effectif\n",
       "0         None         8\n",
       "1         PILE      2994\n",
       "2      SOLAIRE      4808"
      ]
     },
     "execution_count": 12,
     "metadata": {},
     "output_type": "execute_result"
    }
   ],
   "source": [
    "df = pandas.DataFrame(res) \n",
    "df.columns = [\"Alimentation\", \"Effectif\"]\n",
    "df"
   ]
  },
  {
   "cell_type": "code",
   "execution_count": 16,
   "metadata": {},
   "outputs": [
    {
     "data": {
      "text/plain": [
       "<seaborn.axisgrid.FacetGrid at 0x22515fb5b00>"
      ]
     },
     "execution_count": 16,
     "metadata": {},
     "output_type": "execute_result"
    },
    {
     "data": {
      "image/png": "[encoded data removed]",
      "text/plain": [
       "<Figure size 360x360 with 1 Axes>"
      ]
     },
     "metadata": {
      "needs_background": "light"
     },
     "output_type": "display_data"
    }
   ],
   "source": [
    "seaborn.catplot(x = \"Alimentation\", y = \"Effectif\", data = df, kind = \"bar\")"
   ]
  },
  {
   "cell_type": "markdown",
   "metadata": {},
   "source": [
    "- Donner le nombre de mobiliers pour chaque arrondissement (arrondt)"
   ]
  },
  {
   "cell_type": "code",
   "execution_count": 59,
   "metadata": {},
   "outputs": [],
   "source": [
    "res = list(horo.mobiliers.aggregate([\n",
    "    { \"$group\" : { \"_id\" : \"$fields.arrondt\", \"nb\" : { \"$sum\" : 1}}},\n",
    "    { \"$sort\" : { \"_id\": 1}}\n",
    "]))"
   ]
  },
  {
   "cell_type": "code",
   "execution_count": 60,
   "metadata": {},
   "outputs": [],
   "source": [
    "df = pandas.DataFrame(res) \n",
    "df.columns = [\"Arrondissement\", \"Effectif\"]"
   ]
  },
  {
   "cell_type": "code",
   "execution_count": 80,
   "metadata": {},
   "outputs": [
    {
     "data": {
      "text/plain": [
       "<seaborn.axisgrid.FacetGrid at 0x2251caa3668>"
      ]
     },
     "execution_count": 80,
     "metadata": {},
     "output_type": "execute_result"
    },
    {
     "data": {
      "image/png": "[encoded data removed]",
      "text/plain": [
       "<Figure size 864x216 with 1 Axes>"
      ]
     },
     "metadata": {
      "needs_background": "light"
     },
     "output_type": "display_data"
    }
   ],
   "source": [
    "seaborn.catplot(x = \"Arrondissement\", y = \"Effectif\", color = 'dodgerblue',\n",
    "                   data = df, kind = \"bar\", height = 3, aspect = 4)"
   ]
  },
  {
   "cell_type": "markdown",
   "metadata": {},
   "source": [
    "- Lister l'ensemble des modèles existants (modele)"
   ]
  },
  {
   "cell_type": "code",
   "execution_count": 83,
   "metadata": {},
   "outputs": [
    {
     "data": {
      "text/plain": [
       "['SAB3', 'SMB2', 'MUI']"
      ]
     },
     "execution_count": 83,
     "metadata": {},
     "output_type": "execute_result"
    }
   ],
   "source": [
    "horo.mobiliers.distinct(\"fields.modele\")"
   ]
  },
  {
   "cell_type": "code",
   "execution_count": 84,
   "metadata": {},
   "outputs": [],
   "source": [
    "res = list(horo.mobiliers.aggregate([\n",
    "    { \"$group\" : { \"_id\" : \"$fields.modele\", \"nb\" : { \"$sum\" : 1}}},\n",
    "    { \"$sort\" : { \"nb\": -1}}\n",
    "]))"
   ]
  },
  {
   "cell_type": "code",
   "execution_count": 85,
   "metadata": {},
   "outputs": [],
   "source": [
    "df = pandas.DataFrame(res) \n",
    "df.columns = [\"Modèle\", \"Effectif\"]"
   ]
  },
  {
   "cell_type": "code",
   "execution_count": 87,
   "metadata": {},
   "outputs": [
    {
     "data": {
      "text/plain": [
       "<seaborn.axisgrid.FacetGrid at 0x2251cbe8080>"
      ]
     },
     "execution_count": 87,
     "metadata": {},
     "output_type": "execute_result"
    },
    {
     "data": {
      "image/png": "[encoded data removed]",
      "text/plain": [
       "<Figure size 864x216 with 1 Axes>"
      ]
     },
     "metadata": {
      "needs_background": "light"
     },
     "output_type": "display_data"
    }
   ],
   "source": [
    "seaborn.catplot(y = \"Modèle\", x = \"Effectif\", color = \"peachpuff\",\n",
    "                   data = df, kind = \"bar\", height = 3, aspect = 4)"
   ]
  },
  {
   "cell_type": "markdown",
   "metadata": {},
   "source": [
    "- Croiser le régime (regime) et les arrondissements pour voir s'il y a des différences notables"
   ]
  },
  {
   "cell_type": "code",
   "execution_count": 2,
   "metadata": {
    "scrolled": true
   },
   "outputs": [
    {
     "data": {
      "text/html": [
       "<div>\n",
       "<style scoped>\n",
       "    .dataframe tbody tr th:only-of-type {\n",
       "        vertical-align: middle;\n",
       "    }\n",
       "\n",
       "    .dataframe tbody tr th {\n",
       "        vertical-align: top;\n",
       "    }\n",
       "\n",
       "    .dataframe thead th {\n",
       "        text-align: right;\n",
       "    }\n",
       "</style>\n",
       "<table border=\"1\" class=\"dataframe\">\n",
       "  <thead>\n",
       "    <tr style=\"text-align: right;\">\n",
       "      <th></th>\n",
       "      <th>arrondissement</th>\n",
       "      <th>effectif</th>\n",
       "      <th>regime</th>\n",
       "    </tr>\n",
       "  </thead>\n",
       "  <tbody>\n",
       "    <tr>\n",
       "      <th>0</th>\n",
       "      <td>1</td>\n",
       "      <td>24</td>\n",
       "      <td>ROT</td>\n",
       "    </tr>\n",
       "    <tr>\n",
       "      <th>1</th>\n",
       "      <td>1</td>\n",
       "      <td>63</td>\n",
       "      <td>MIX</td>\n",
       "    </tr>\n",
       "    <tr>\n",
       "      <th>2</th>\n",
       "      <td>2</td>\n",
       "      <td>18</td>\n",
       "      <td>ROT</td>\n",
       "    </tr>\n",
       "    <tr>\n",
       "      <th>3</th>\n",
       "      <td>2</td>\n",
       "      <td>49</td>\n",
       "      <td>MIX</td>\n",
       "    </tr>\n",
       "    <tr>\n",
       "      <th>4</th>\n",
       "      <td>3</td>\n",
       "      <td>82</td>\n",
       "      <td>MIX</td>\n",
       "    </tr>\n",
       "  </tbody>\n",
       "</table>\n",
       "</div>"
      ],
      "text/plain": [
       "   arrondissement  effectif regime\n",
       "0               1        24    ROT\n",
       "1               1        63    MIX\n",
       "2               2        18    ROT\n",
       "3               2        49    MIX\n",
       "4               3        82    MIX"
      ]
     },
     "execution_count": 2,
     "metadata": {},
     "output_type": "execute_result"
    }
   ],
   "source": [
    "res = list(horo.mobiliers.aggregate([\n",
    "    { \"$group\" : { \"_id\" : { \"reg\" : \"$fields.regime\", \"arr\" : \"$fields.arrondt\"}, \"nb\" : { \"$sum\" : 1}}},\n",
    "    { \"$project\": { \"regime\" : \"$_id.reg\", \"arrondissement\" : \"$_id.arr\", \"effectif\" : \"$nb\" }},\n",
    "    { \"$sort\" : { \"arrondissement\" : 1}}\n",
    "]))\n",
    "df = pandas.DataFrame(res).drop(\"_id\", 1)\n",
    "df.head()"
   ]
  },
  {
   "cell_type": "code",
   "execution_count": 9,
   "metadata": {},
   "outputs": [
    {
     "data": {
      "text/plain": [
       "<matplotlib.axes._subplots.AxesSubplot at 0x2141f8301d0>"
      ]
     },
     "execution_count": 9,
     "metadata": {},
     "output_type": "execute_result"
    },
    {
     "data": {
      "image/png": "[encoded data removed]",
      "text/plain": [
       "<Figure size 432x288 with 1 Axes>"
      ]
     },
     "metadata": {
      "needs_background": "light"
     },
     "output_type": "display_data"
    }
   ],
   "source": [
    "seaborn.barplot(x = \"arrondissement\", y = \"effectif\", hue = \"regime\", data = df)"
   ]
  },
  {
   "cell_type": "code",
   "execution_count": 36,
   "metadata": {},
   "outputs": [
    {
     "data": {
      "text/plain": [
       "<seaborn.axisgrid.FacetGrid at 0x22517df1fd0>"
      ]
     },
     "execution_count": 36,
     "metadata": {},
     "output_type": "execute_result"
    },
    {
     "data": {
      "image/png": "[encoded data removed]",
      "text/plain": [
       "<Figure size 4320x864 with 20 Axes>"
      ]
     },
     "metadata": {
      "needs_background": "light"
     },
     "output_type": "display_data"
    }
   ],
   "source": [
    "seaborn.catplot(x = \"regime\", y = \"effectif\",\n",
    "                   col = \"arrondissement\", col_wrap = 10,\n",
    "                   data = df, kind = \"bar\", height = 6)"
   ]
  },
  {
   "cell_type": "code",
   "execution_count": 38,
   "metadata": {},
   "outputs": [
    {
     "data": {
      "text/plain": [
       "<seaborn.axisgrid.FacetGrid at 0x2251904fda0>"
      ]
     },
     "execution_count": 38,
     "metadata": {},
     "output_type": "execute_result"
    },
    {
     "data": {
      "image/png": "[encoded data removed]",
      "text/plain": [
       "<Figure size 1080x864 with 20 Axes>"
      ]
     },
     "metadata": {
      "needs_background": "light"
     },
     "output_type": "display_data"
    }
   ],
   "source": [
    "t = pandas.crosstab(df.regime, df.arrondissement, df.effectif, normalize = \"columns\", aggfunc = sum)\n",
    "t = t.assign(regime = t.index)\n",
    "tm = pandas.melt(t, id_vars = \"regime\")\n",
    "tm = tm.assign(value = 100 * tm.value)\n",
    "\n",
    "seaborn.catplot(x = \"regime\", y = \"value\", \n",
    "                   col = \"arrondissement\", col_wrap = 5, \n",
    "                   data = tm, kind = \"bar\", height = 3)"
   ]
  },
  {
   "cell_type": "markdown",
   "metadata": {},
   "source": [
    "- Idem avec le tarif horaire (tarifhor)"
   ]
  },
  {
   "cell_type": "code",
   "execution_count": 10,
   "metadata": {},
   "outputs": [
    {
     "data": {
      "text/html": [
       "<div>\n",
       "<style scoped>\n",
       "    .dataframe tbody tr th:only-of-type {\n",
       "        vertical-align: middle;\n",
       "    }\n",
       "\n",
       "    .dataframe tbody tr th {\n",
       "        vertical-align: top;\n",
       "    }\n",
       "\n",
       "    .dataframe thead th {\n",
       "        text-align: right;\n",
       "    }\n",
       "</style>\n",
       "<table border=\"1\" class=\"dataframe\">\n",
       "  <thead>\n",
       "    <tr style=\"text-align: right;\">\n",
       "      <th></th>\n",
       "      <th>arrondissement</th>\n",
       "      <th>effectif</th>\n",
       "      <th>tarif</th>\n",
       "    </tr>\n",
       "  </thead>\n",
       "  <tbody>\n",
       "    <tr>\n",
       "      <th>0</th>\n",
       "      <td>1</td>\n",
       "      <td>87</td>\n",
       "      <td>4.0</td>\n",
       "    </tr>\n",
       "    <tr>\n",
       "      <th>1</th>\n",
       "      <td>2</td>\n",
       "      <td>67</td>\n",
       "      <td>4.0</td>\n",
       "    </tr>\n",
       "    <tr>\n",
       "      <th>2</th>\n",
       "      <td>3</td>\n",
       "      <td>133</td>\n",
       "      <td>4.0</td>\n",
       "    </tr>\n",
       "    <tr>\n",
       "      <th>3</th>\n",
       "      <td>4</td>\n",
       "      <td>135</td>\n",
       "      <td>4.0</td>\n",
       "    </tr>\n",
       "    <tr>\n",
       "      <th>4</th>\n",
       "      <td>5</td>\n",
       "      <td>267</td>\n",
       "      <td>4.0</td>\n",
       "    </tr>\n",
       "  </tbody>\n",
       "</table>\n",
       "</div>"
      ],
      "text/plain": [
       "   arrondissement  effectif  tarif\n",
       "0               1        87    4.0\n",
       "1               2        67    4.0\n",
       "2               3       133    4.0\n",
       "3               4       135    4.0\n",
       "4               5       267    4.0"
      ]
     },
     "execution_count": 10,
     "metadata": {},
     "output_type": "execute_result"
    }
   ],
   "source": [
    "res = list(horo.mobiliers.aggregate([\n",
    "    { \"$group\" : { \"_id\" : { \"reg\" : \"$fields.tarifhor\", \"arr\" : \"$fields.arrondt\"}, \"nb\" : { \"$sum\" : 1}}},\n",
    "    { \"$project\": { \"tarif\" : \"$_id.reg\", \"arrondissement\" : \"$_id.arr\", \"effectif\" : \"$nb\" }},\n",
    "    { \"$sort\" : { \"arrondissement\" : 1}}\n",
    "]))\n",
    "df = pandas.DataFrame(res).drop(\"_id\", 1)\n",
    "df.head()"
   ]
  },
  {
   "cell_type": "code",
   "execution_count": 11,
   "metadata": {},
   "outputs": [
    {
     "data": {
      "text/plain": [
       "<matplotlib.axes._subplots.AxesSubplot at 0x2141aa9afd0>"
      ]
     },
     "execution_count": 11,
     "metadata": {},
     "output_type": "execute_result"
    },
    {
     "data": {
      "image/png": "[encoded data removed]",
      "text/plain": [
       "<Figure size 432x288 with 1 Axes>"
      ]
     },
     "metadata": {
      "needs_background": "light"
     },
     "output_type": "display_data"
    }
   ],
   "source": [
    "seaborn.barplot(x = \"arrondissement\", y = \"effectif\", hue = \"tarif\", data = df)"
   ]
  },
  {
   "cell_type": "code",
   "execution_count": 43,
   "metadata": {},
   "outputs": [
    {
     "data": {
      "text/plain": [
       "<seaborn.axisgrid.FacetGrid at 0x2251a133710>"
      ]
     },
     "execution_count": 43,
     "metadata": {},
     "output_type": "execute_result"
    },
    {
     "data": {
      "image/png": "[encoded data removed]",
      "text/plain": [
       "<Figure size 4320x864 with 20 Axes>"
      ]
     },
     "metadata": {
      "needs_background": "light"
     },
     "output_type": "display_data"
    }
   ],
   "source": [
    "seaborn.catplot(x = \"tarif\", y = \"effectif\",\n",
    "                   col = \"arrondissement\", col_wrap = 10,\n",
    "                   data = df, kind = \"bar\", height = 6)"
   ]
  },
  {
   "cell_type": "code",
   "execution_count": 46,
   "metadata": {},
   "outputs": [
    {
     "data": {
      "text/plain": [
       "<seaborn.axisgrid.FacetGrid at 0x2251aa4f358>"
      ]
     },
     "execution_count": 46,
     "metadata": {},
     "output_type": "execute_result"
    },
    {
     "data": {
      "image/png": "[encoded data removed]",
      "text/plain": [
       "<Figure size 1080x864 with 20 Axes>"
      ]
     },
     "metadata": {
      "needs_background": "light"
     },
     "output_type": "display_data"
    }
   ],
   "source": [
    "t = pandas.crosstab(df.tarif, df.arrondissement, df.effectif, normalize = \"columns\", aggfunc = sum)\n",
    "t = t.assign(tarif = t.index)\n",
    "tm = pandas.melt(t, id_vars = \"tarif\")\n",
    "tm = tm.assign(value = 100 * tm.value)\n",
    "\n",
    "seaborn.catplot(x = \"tarif\", y = \"value\", \n",
    "                   col = \"arrondissement\", col_wrap = 5, \n",
    "                   data = tm, kind = \"bar\", height = 3)"
   ]
  },
  {
   "cell_type": "markdown",
   "metadata": {},
   "source": [
    "### **Transactions**"
   ]
  },
  {
   "cell_type": "markdown",
   "metadata": {},
   "source": [
    "- Donner la distribution des montants payés (montant carte) et des durées payées (durée payée (h))"
   ]
  },
  {
   "cell_type": "code",
   "execution_count": 12,
   "metadata": {},
   "outputs": [],
   "source": [
    "res = list(horo.transactions_small.find({}, {\"_id\": 0, \"montant carte\" : 1}))"
   ]
  },
  {
   "cell_type": "code",
   "execution_count": 48,
   "metadata": {},
   "outputs": [],
   "source": [
    "df = pandas.DataFrame(res)"
   ]
  },
  {
   "cell_type": "code",
   "execution_count": 49,
   "metadata": {
    "scrolled": false
   },
   "outputs": [
    {
     "name": "stderr",
     "output_type": "stream",
     "text": [
      "C:\\Users\\User\\Anaconda3\\lib\\site-packages\\scipy\\stats\\stats.py:1713: FutureWarning: Using a non-tuple sequence for multidimensional indexing is deprecated; use `arr[tuple(seq)]` instead of `arr[seq]`. In the future this will be interpreted as an array index, `arr[np.array(seq)]`, which will result either in an error or a different result.\n",
      "  return np.add.reduce(sorted[indexer] * weights, axis=axis) / sumval\n"
     ]
    },
    {
     "data": {
      "text/plain": [
       "<matplotlib.axes._subplots.AxesSubplot at 0x22514f08fd0>"
      ]
     },
     "execution_count": 49,
     "metadata": {},
     "output_type": "execute_result"
    },
    {
     "data": {
      "image/png": "[encoded data removed]",
      "text/plain": [
       "<Figure size 432x288 with 1 Axes>"
      ]
     },
     "metadata": {
      "needs_background": "light"
     },
     "output_type": "display_data"
    }
   ],
   "source": [
    "seaborn.distplot(df[\"montant carte\"])"
   ]
  },
  {
   "cell_type": "code",
   "execution_count": 16,
   "metadata": {},
   "outputs": [],
   "source": [
    "res = list(horo.transactions_small.find({}, {\"_id\": 0, \"durée payée (h)\" : 1}))"
   ]
  },
  {
   "cell_type": "code",
   "execution_count": 17,
   "metadata": {},
   "outputs": [],
   "source": [
    "df = pandas.DataFrame(res)"
   ]
  },
  {
   "cell_type": "code",
   "execution_count": 18,
   "metadata": {},
   "outputs": [
    {
     "name": "stderr",
     "output_type": "stream",
     "text": [
      "C:\\Users\\User\\Anaconda3\\lib\\site-packages\\scipy\\stats\\stats.py:1713: FutureWarning: Using a non-tuple sequence for multidimensional indexing is deprecated; use `arr[tuple(seq)]` instead of `arr[seq]`. In the future this will be interpreted as an array index, `arr[np.array(seq)]`, which will result either in an error or a different result.\n",
      "  return np.add.reduce(sorted[indexer] * weights, axis=axis) / sumval\n"
     ]
    },
    {
     "data": {
      "text/plain": [
       "<matplotlib.axes._subplots.AxesSubplot at 0x21420c9f2b0>"
      ]
     },
     "execution_count": 18,
     "metadata": {},
     "output_type": "execute_result"
    },
    {
     "data": {
      "image/png": "[encoded data removed]",
      "text/plain": [
       "<Figure size 432x288 with 1 Axes>"
      ]
     },
     "metadata": {
      "needs_background": "light"
     },
     "output_type": "display_data"
    }
   ],
   "source": [
    "seaborn.distplot(df[\"durée payée (h)\"])"
   ]
  },
  {
   "cell_type": "code",
   "execution_count": 50,
   "metadata": {},
   "outputs": [
    {
     "data": {
      "text/plain": [
       "<matplotlib.axes._subplots.AxesSubplot at 0x22514f77cc0>"
      ]
     },
     "execution_count": 50,
     "metadata": {},
     "output_type": "execute_result"
    },
    {
     "data": {
      "image/png": "[encoded data removed]",
      "text/plain": [
       "<Figure size 432x288 with 1 Axes>"
      ]
     },
     "metadata": {
      "needs_background": "light"
     },
     "output_type": "display_data"
    }
   ],
   "source": [
    "seaborn.boxplot(x = \"montant carte\", data = df)"
   ]
  },
  {
   "cell_type": "code",
   "execution_count": 52,
   "metadata": {},
   "outputs": [
    {
     "data": {
      "text/plain": [
       "<matplotlib.axes._subplots.AxesSubplot at 0x2251bc174e0>"
      ]
     },
     "execution_count": 52,
     "metadata": {},
     "output_type": "execute_result"
    },
    {
     "data": {
      "image/png": "[encoded data removed]",
      "text/plain": [
       "<Figure size 432x288 with 1 Axes>"
      ]
     },
     "metadata": {
      "needs_background": "light"
     },
     "output_type": "display_data"
    }
   ],
   "source": [
    "seaborn.violinplot(x = \"montant carte\", data = df)"
   ]
  },
  {
   "cell_type": "markdown",
   "metadata": {},
   "source": [
    "- Lister les différents moyens de paiements utilisés (moyen de paiement) et le type d'usager (usager), en ordonnant chaque table résultat par ordre décroissant du nombre de paiements"
   ]
  },
  {
   "cell_type": "code",
   "execution_count": 53,
   "metadata": {},
   "outputs": [
    {
     "name": "stdout",
     "output_type": "stream",
     "text": [
      "           _id        nb\n",
      "0  Paris Carte  13181015\n",
      "1           CB  11267015\n"
     ]
    }
   ],
   "source": [
    "res = list(horo.transactions.aggregate([\n",
    "    { \"$group\" : { \"_id\" : \"$moyen de paiement\", \"nb\" : { \"$sum\" : 1}}},\n",
    "    { \"$sort\" : { \"nb\" : -1 }}\n",
    "]))\n",
    "pprint(pandas.DataFrame(res))"
   ]
  },
  {
   "cell_type": "code",
   "execution_count": 54,
   "metadata": {},
   "outputs": [
    {
     "name": "stdout",
     "output_type": "stream",
     "text": [
      "        _id        nb\n",
      "0   Rotatif  19033897\n",
      "1  Résident   5414133\n"
     ]
    }
   ],
   "source": [
    "res = list(horo.transactions.aggregate([\n",
    "    { \"$group\" : { \"_id\" : \"$usager\", \"nb\" : { \"$sum\" : 1}}},\n",
    "    { \"$sort\" : { \"nb\" : -1 }}\n",
    "]))\n",
    "pprint(pandas.DataFrame(res))"
   ]
  },
  {
   "cell_type": "markdown",
   "metadata": {},
   "source": [
    "- Déterminer s'il existe un lien entre le moyen de paiement, et le montant d'une part et la durée d'autre part"
   ]
  },
  {
   "cell_type": "code",
   "execution_count": 55,
   "metadata": {},
   "outputs": [
    {
     "name": "stdout",
     "output_type": "stream",
     "text": [
      "           _id   montant\n",
      "0           CB  3.007229\n",
      "1  Paris Carte  2.161537\n"
     ]
    }
   ],
   "source": [
    "res = list(horo.transactions_small.aggregate([\n",
    "    { \"$group\" : { \"_id\" : \"$moyen de paiement\", \"montant\" : { \"$avg\" : \"$montant carte\"}}},\n",
    "    { \"$sort\" : { \"nb\" : -1 }}\n",
    "]))\n",
    "pprint(pandas.DataFrame(res))"
   ]
  },
  {
   "cell_type": "code",
   "execution_count": 56,
   "metadata": {
    "scrolled": false
   },
   "outputs": [
    {
     "name": "stdout",
     "output_type": "stream",
     "text": [
      "           _id     durée\n",
      "0           CB  8.254365\n",
      "1  Paris Carte  8.261151\n"
     ]
    }
   ],
   "source": [
    "res = list(horo.transactions_small.aggregate([\n",
    "    { \"$group\" : { \"_id\" : \"$moyen de paiement\", \"durée\" : { \"$avg\" : \"$durée payée (h)\"}}},\n",
    "    { \"$sort\" : { \"nb\" : -1 }}\n",
    "]))\n",
    "pprint(pandas.DataFrame(res))"
   ]
  },
  {
   "cell_type": "markdown",
   "metadata": {},
   "source": [
    "## Autre version"
   ]
  },
  {
   "cell_type": "markdown",
   "metadata": {},
   "source": [
    "### Mobiliers"
   ]
  },
  {
   "cell_type": "code",
   "execution_count": 20,
   "metadata": {},
   "outputs": [
    {
     "data": {
      "text/html": [
       "<div>\n",
       "<style scoped>\n",
       "    .dataframe tbody tr th:only-of-type {\n",
       "        vertical-align: middle;\n",
       "    }\n",
       "\n",
       "    .dataframe tbody tr th {\n",
       "        vertical-align: top;\n",
       "    }\n",
       "\n",
       "    .dataframe thead th {\n",
       "        text-align: right;\n",
       "    }\n",
       "</style>\n",
       "<table border=\"1\" class=\"dataframe\">\n",
       "  <thead>\n",
       "    <tr style=\"text-align: right;\">\n",
       "      <th></th>\n",
       "      <th>Nb</th>\n",
       "      <th>_id</th>\n",
       "    </tr>\n",
       "  </thead>\n",
       "  <tbody>\n",
       "    <tr>\n",
       "      <th>0</th>\n",
       "      <td>8</td>\n",
       "      <td>None</td>\n",
       "    </tr>\n",
       "    <tr>\n",
       "      <th>1</th>\n",
       "      <td>2994</td>\n",
       "      <td>PILE</td>\n",
       "    </tr>\n",
       "    <tr>\n",
       "      <th>2</th>\n",
       "      <td>4808</td>\n",
       "      <td>SOLAIRE</td>\n",
       "    </tr>\n",
       "  </tbody>\n",
       "</table>\n",
       "</div>"
      ],
      "text/plain": [
       "     Nb      _id\n",
       "0     8     None\n",
       "1  2994     PILE\n",
       "2  4808  SOLAIRE"
      ]
     },
     "execution_count": 20,
     "metadata": {},
     "output_type": "execute_result"
    }
   ],
   "source": [
    "# Donner les différents types d'alimentation possible (alim) et le nombre d'horodateurs pour chaque.\n",
    "horo.mobiliers.distinct(\"fields.alim\")\n",
    "\n",
    "pandas.DataFrame(list(horo.mobiliers.aggregate([\n",
    "    { \"$group\": { \"_id\": \"$fields.alim\", \"Nb\": { \"$sum\": 1 }}}\n",
    "])))\n"
   ]
  },
  {
   "cell_type": "code",
   "execution_count": 21,
   "metadata": {},
   "outputs": [
    {
     "data": {
      "text/html": [
       "<div>\n",
       "<style scoped>\n",
       "    .dataframe tbody tr th:only-of-type {\n",
       "        vertical-align: middle;\n",
       "    }\n",
       "\n",
       "    .dataframe tbody tr th {\n",
       "        vertical-align: top;\n",
       "    }\n",
       "\n",
       "    .dataframe thead th {\n",
       "        text-align: right;\n",
       "    }\n",
       "</style>\n",
       "<table border=\"1\" class=\"dataframe\">\n",
       "  <thead>\n",
       "    <tr style=\"text-align: right;\">\n",
       "      <th></th>\n",
       "      <th>Arrondissement</th>\n",
       "      <th>Nb</th>\n",
       "    </tr>\n",
       "  </thead>\n",
       "  <tbody>\n",
       "    <tr>\n",
       "      <th>0</th>\n",
       "      <td>16</td>\n",
       "      <td>959</td>\n",
       "    </tr>\n",
       "    <tr>\n",
       "      <th>1</th>\n",
       "      <td>15</td>\n",
       "      <td>810</td>\n",
       "    </tr>\n",
       "    <tr>\n",
       "      <th>2</th>\n",
       "      <td>17</td>\n",
       "      <td>698</td>\n",
       "    </tr>\n",
       "    <tr>\n",
       "      <th>3</th>\n",
       "      <td>13</td>\n",
       "      <td>514</td>\n",
       "    </tr>\n",
       "    <tr>\n",
       "      <th>4</th>\n",
       "      <td>18</td>\n",
       "      <td>494</td>\n",
       "    </tr>\n",
       "    <tr>\n",
       "      <th>5</th>\n",
       "      <td>20</td>\n",
       "      <td>492</td>\n",
       "    </tr>\n",
       "    <tr>\n",
       "      <th>6</th>\n",
       "      <td>19</td>\n",
       "      <td>473</td>\n",
       "    </tr>\n",
       "    <tr>\n",
       "      <th>7</th>\n",
       "      <td>12</td>\n",
       "      <td>458</td>\n",
       "    </tr>\n",
       "    <tr>\n",
       "      <th>8</th>\n",
       "      <td>14</td>\n",
       "      <td>448</td>\n",
       "    </tr>\n",
       "    <tr>\n",
       "      <th>9</th>\n",
       "      <td>11</td>\n",
       "      <td>440</td>\n",
       "    </tr>\n",
       "    <tr>\n",
       "      <th>10</th>\n",
       "      <td>8</td>\n",
       "      <td>376</td>\n",
       "    </tr>\n",
       "    <tr>\n",
       "      <th>11</th>\n",
       "      <td>7</td>\n",
       "      <td>361</td>\n",
       "    </tr>\n",
       "    <tr>\n",
       "      <th>12</th>\n",
       "      <td>5</td>\n",
       "      <td>267</td>\n",
       "    </tr>\n",
       "    <tr>\n",
       "      <th>13</th>\n",
       "      <td>9</td>\n",
       "      <td>227</td>\n",
       "    </tr>\n",
       "    <tr>\n",
       "      <th>14</th>\n",
       "      <td>10</td>\n",
       "      <td>197</td>\n",
       "    </tr>\n",
       "    <tr>\n",
       "      <th>15</th>\n",
       "      <td>6</td>\n",
       "      <td>174</td>\n",
       "    </tr>\n",
       "    <tr>\n",
       "      <th>16</th>\n",
       "      <td>4</td>\n",
       "      <td>135</td>\n",
       "    </tr>\n",
       "    <tr>\n",
       "      <th>17</th>\n",
       "      <td>3</td>\n",
       "      <td>133</td>\n",
       "    </tr>\n",
       "    <tr>\n",
       "      <th>18</th>\n",
       "      <td>1</td>\n",
       "      <td>87</td>\n",
       "    </tr>\n",
       "    <tr>\n",
       "      <th>19</th>\n",
       "      <td>2</td>\n",
       "      <td>67</td>\n",
       "    </tr>\n",
       "  </tbody>\n",
       "</table>\n",
       "</div>"
      ],
      "text/plain": [
       "    Arrondissement   Nb\n",
       "0               16  959\n",
       "1               15  810\n",
       "2               17  698\n",
       "3               13  514\n",
       "4               18  494\n",
       "5               20  492\n",
       "6               19  473\n",
       "7               12  458\n",
       "8               14  448\n",
       "9               11  440\n",
       "10               8  376\n",
       "11               7  361\n",
       "12               5  267\n",
       "13               9  227\n",
       "14              10  197\n",
       "15               6  174\n",
       "16               4  135\n",
       "17               3  133\n",
       "18               1   87\n",
       "19               2   67"
      ]
     },
     "execution_count": 21,
     "metadata": {},
     "output_type": "execute_result"
    }
   ],
   "source": [
    "# Donner le nombre de mobiliers pour chaque arrondissement (arrondt)\n",
    "pandas.DataFrame(list(horo.mobiliers.aggregate([\n",
    "    { \"$group\": { \"_id\": \"$fields.arrondt\", \"Nb\": { \"$sum\": 1 }}},\n",
    "    { \"$sort\": { \"Nb\": - 1 }},\n",
    "    { \"$project\": { \"Arrondissement\": \"$_id\", \"Nb\": 1, \"_id\": 0 }}\n",
    "])))"
   ]
  },
  {
   "cell_type": "code",
   "execution_count": 22,
   "metadata": {},
   "outputs": [
    {
     "data": {
      "text/plain": [
       "['SAB3', 'SMB2', 'MUI']"
      ]
     },
     "execution_count": 22,
     "metadata": {},
     "output_type": "execute_result"
    }
   ],
   "source": [
    "# Lister l'ensemble des modèles existants (modele)\n",
    "horo.mobiliers.distinct(\"fields.modele\")"
   ]
  },
  {
   "cell_type": "code",
   "execution_count": 23,
   "metadata": {},
   "outputs": [
    {
     "data": {
      "text/html": [
       "<div>\n",
       "<style scoped>\n",
       "    .dataframe tbody tr th:only-of-type {\n",
       "        vertical-align: middle;\n",
       "    }\n",
       "\n",
       "    .dataframe tbody tr th {\n",
       "        vertical-align: top;\n",
       "    }\n",
       "\n",
       "    .dataframe thead th {\n",
       "        text-align: right;\n",
       "    }\n",
       "</style>\n",
       "<table border=\"1\" class=\"dataframe\">\n",
       "  <thead>\n",
       "    <tr style=\"text-align: right;\">\n",
       "      <th></th>\n",
       "      <th>Arrondissement</th>\n",
       "      <th>Nb</th>\n",
       "      <th>Regime</th>\n",
       "    </tr>\n",
       "  </thead>\n",
       "  <tbody>\n",
       "    <tr>\n",
       "      <th>0</th>\n",
       "      <td>1</td>\n",
       "      <td>24</td>\n",
       "      <td>ROT</td>\n",
       "    </tr>\n",
       "    <tr>\n",
       "      <th>1</th>\n",
       "      <td>16</td>\n",
       "      <td>74</td>\n",
       "      <td>ROT</td>\n",
       "    </tr>\n",
       "    <tr>\n",
       "      <th>2</th>\n",
       "      <td>7</td>\n",
       "      <td>24</td>\n",
       "      <td>ROT</td>\n",
       "    </tr>\n",
       "    <tr>\n",
       "      <th>3</th>\n",
       "      <td>3</td>\n",
       "      <td>82</td>\n",
       "      <td>MIX</td>\n",
       "    </tr>\n",
       "    <tr>\n",
       "      <th>4</th>\n",
       "      <td>5</td>\n",
       "      <td>26</td>\n",
       "      <td>ROT</td>\n",
       "    </tr>\n",
       "  </tbody>\n",
       "</table>\n",
       "</div>"
      ],
      "text/plain": [
       "   Arrondissement  Nb Regime\n",
       "0               1  24    ROT\n",
       "1              16  74    ROT\n",
       "2               7  24    ROT\n",
       "3               3  82    MIX\n",
       "4               5  26    ROT"
      ]
     },
     "execution_count": 23,
     "metadata": {},
     "output_type": "execute_result"
    }
   ],
   "source": [
    "# Croiser le régime (regime) et les arrondissements pour voir s'il y a des différences notables\n",
    "tab = pandas.DataFrame(list(horo.mobiliers.aggregate([\n",
    "    { \"$group\": { \"_id\": { \"regime\": \"$fields.regime\", \"arr\": \"$fields.arrondt\" }, \"Nb\": { \"$sum\": 1 }}},\n",
    "    { \"$project\": { \"Arrondissement\": \"$_id.arr\", \"Regime\": \"$_id.regime\", \"Nb\": 1, \"_id\": 0 }}\n",
    "])))\n",
    "tab.head()"
   ]
  },
  {
   "cell_type": "code",
   "execution_count": 24,
   "metadata": {},
   "outputs": [],
   "source": [
    "import seaborn\n",
    "%matplotlib inline"
   ]
  },
  {
   "cell_type": "code",
   "execution_count": 25,
   "metadata": {},
   "outputs": [
    {
     "data": {
      "text/plain": [
       "<matplotlib.axes._subplots.AxesSubplot at 0x2142100b940>"
      ]
     },
     "execution_count": 25,
     "metadata": {},
     "output_type": "execute_result"
    },
    {
     "data": {
      "image/png": "[encoded data removed]",
      "text/plain": [
       "<Figure size 432x288 with 1 Axes>"
      ]
     },
     "metadata": {
      "needs_background": "light"
     },
     "output_type": "display_data"
    }
   ],
   "source": [
    "seaborn.barplot(x = \"Arrondissement\", y = \"Nb\", hue = \"Regime\", data = tab)"
   ]
  },
  {
   "cell_type": "code",
   "execution_count": 26,
   "metadata": {},
   "outputs": [],
   "source": [
    "import numpy\n",
    "tabbis = pandas.crosstab(tab.Arrondissement, tab.Regime, values=tab.Nb, aggfunc= numpy.sum, normalize = \"index\") * 100\n",
    "tabbis = tabbis.assign(Arr = tabbis.index)"
   ]
  },
  {
   "cell_type": "code",
   "execution_count": 27,
   "metadata": {},
   "outputs": [
    {
     "data": {
      "text/plain": [
       "<matplotlib.axes._subplots.AxesSubplot at 0x214378b4fd0>"
      ]
     },
     "execution_count": 27,
     "metadata": {},
     "output_type": "execute_result"
    },
    {
     "data": {
      "image/png": "[encoded data removed]",
      "text/plain": [
       "<Figure size 432x288 with 1 Axes>"
      ]
     },
     "metadata": {
      "needs_background": "light"
     },
     "output_type": "display_data"
    }
   ],
   "source": [
    "tabter = tabbis.melt(id_vars=\"Arr\")\n",
    "seaborn.barplot(x = \"Arr\", y = \"value\", hue = \"Regime\", data = tabter)"
   ]
  },
  {
   "cell_type": "code",
   "execution_count": 28,
   "metadata": {},
   "outputs": [
    {
     "data": {
      "text/plain": [
       "<matplotlib.axes._subplots.AxesSubplot at 0x21421326a20>"
      ]
     },
     "execution_count": 28,
     "metadata": {},
     "output_type": "execute_result"
    },
    {
     "data": {
      "image/png": "[encoded data removed]",
      "text/plain": [
       "<Figure size 432x288 with 1 Axes>"
      ]
     },
     "metadata": {
      "needs_background": "light"
     },
     "output_type": "display_data"
    }
   ],
   "source": [
    "# Idem avec le tarif horaire (tarifhor)\n",
    "tab2 = pandas.DataFrame(list(horo.mobiliers.aggregate([\n",
    "    { \"$group\": { \"_id\": { \"tarif\": \"$fields.tarifhor\", \"arr\": \"$fields.arrondt\" }, \"Nb\": { \"$sum\": 1 }}},\n",
    "    { \"$project\": { \"Arrondissement\": \"$_id.arr\", \"Tarif\": \"$_id.tarif\", \"Nb\": 1, \"_id\": 0 }}\n",
    "])))\n",
    "seaborn.barplot(x = \"Arrondissement\", y = \"Nb\", hue = \"Tarif\", data = tab2)"
   ]
  },
  {
   "cell_type": "markdown",
   "metadata": {},
   "source": [
    "### Horodateurs"
   ]
  },
  {
   "cell_type": "code",
   "execution_count": 29,
   "metadata": {},
   "outputs": [],
   "source": [
    "# Donner la distribution des montants payés (montant carte) et des durées payées (durée payée (h))\n",
    "info = list(horo.transactions_small.find(projection = { \"montant carte\": 1, \"durée payée (h)\": 1, \"_id\": 0 }))"
   ]
  },
  {
   "cell_type": "code",
   "execution_count": 30,
   "metadata": {},
   "outputs": [
    {
     "data": {
      "text/plain": [
       "<matplotlib.axes._subplots.AxesSubplot at 0x21421326cf8>"
      ]
     },
     "execution_count": 30,
     "metadata": {},
     "output_type": "execute_result"
    },
    {
     "data": {
      "image/png": "[encoded data removed]",
      "text/plain": [
       "<Figure size 432x288 with 1 Axes>"
      ]
     },
     "metadata": {
      "needs_background": "light"
     },
     "output_type": "display_data"
    }
   ],
   "source": [
    "mt = [x['montant carte'] for x in info]\n",
    "seaborn.distplot(mt)"
   ]
  },
  {
   "cell_type": "code",
   "execution_count": 31,
   "metadata": {},
   "outputs": [
    {
     "data": {
      "text/plain": [
       "<matplotlib.axes._subplots.AxesSubplot at 0x21435f0d940>"
      ]
     },
     "execution_count": 31,
     "metadata": {},
     "output_type": "execute_result"
    },
    {
     "data": {
      "image/png": "[encoded data removed]",
      "text/plain": [
       "<Figure size 432x288 with 1 Axes>"
      ]
     },
     "metadata": {
      "needs_background": "light"
     },
     "output_type": "display_data"
    }
   ],
   "source": [
    "du = [x['durée payée (h)'] for x in info]\n",
    "seaborn.distplot(du)"
   ]
  },
  {
   "cell_type": "code",
   "execution_count": 34,
   "metadata": {},
   "outputs": [
    {
     "data": {
      "text/html": [
       "<div>\n",
       "<style scoped>\n",
       "    .dataframe tbody tr th:only-of-type {\n",
       "        vertical-align: middle;\n",
       "    }\n",
       "\n",
       "    .dataframe tbody tr th {\n",
       "        vertical-align: top;\n",
       "    }\n",
       "\n",
       "    .dataframe thead th {\n",
       "        text-align: right;\n",
       "    }\n",
       "</style>\n",
       "<table border=\"1\" class=\"dataframe\">\n",
       "  <thead>\n",
       "    <tr style=\"text-align: right;\">\n",
       "      <th></th>\n",
       "      <th>Moyen de paiement</th>\n",
       "      <th>Nb</th>\n",
       "    </tr>\n",
       "  </thead>\n",
       "  <tbody>\n",
       "    <tr>\n",
       "      <th>0</th>\n",
       "      <td>Paris Carte</td>\n",
       "      <td>132453</td>\n",
       "    </tr>\n",
       "    <tr>\n",
       "      <th>1</th>\n",
       "      <td>CB</td>\n",
       "      <td>112027</td>\n",
       "    </tr>\n",
       "  </tbody>\n",
       "</table>\n",
       "</div>"
      ],
      "text/plain": [
       "  Moyen de paiement      Nb\n",
       "0       Paris Carte  132453\n",
       "1                CB  112027"
      ]
     },
     "execution_count": 34,
     "metadata": {},
     "output_type": "execute_result"
    }
   ],
   "source": [
    "# Lister les différents moyens de paiements utilisés (moyen de paiement) \n",
    "# et le type d'usager (usager), en ordonnant chaque table résultat par ordre décroissant du nombre de paiements\n",
    "pandas.DataFrame(list(horo.transactions_small.aggregate([\n",
    "    { \"$group\": { \"_id\": \"$moyen de paiement\", \"Nb\": { \"$sum\": 1 } }},\n",
    "    { \"$sort\": { \"Nb\": - 1 }},\n",
    "    { \"$project\": { \"Moyen de paiement\": \"$_id\", \"Nb\": 1, \"_id\": 0 }}\n",
    "])))"
   ]
  },
  {
   "cell_type": "code",
   "execution_count": 35,
   "metadata": {},
   "outputs": [
    {
     "data": {
      "text/html": [
       "<div>\n",
       "<style scoped>\n",
       "    .dataframe tbody tr th:only-of-type {\n",
       "        vertical-align: middle;\n",
       "    }\n",
       "\n",
       "    .dataframe tbody tr th {\n",
       "        vertical-align: top;\n",
       "    }\n",
       "\n",
       "    .dataframe thead th {\n",
       "        text-align: right;\n",
       "    }\n",
       "</style>\n",
       "<table border=\"1\" class=\"dataframe\">\n",
       "  <thead>\n",
       "    <tr style=\"text-align: right;\">\n",
       "      <th></th>\n",
       "      <th>Nb</th>\n",
       "      <th>Usager</th>\n",
       "    </tr>\n",
       "  </thead>\n",
       "  <tbody>\n",
       "    <tr>\n",
       "      <th>0</th>\n",
       "      <td>190206</td>\n",
       "      <td>Rotatif</td>\n",
       "    </tr>\n",
       "    <tr>\n",
       "      <th>1</th>\n",
       "      <td>54274</td>\n",
       "      <td>Résident</td>\n",
       "    </tr>\n",
       "  </tbody>\n",
       "</table>\n",
       "</div>"
      ],
      "text/plain": [
       "       Nb    Usager\n",
       "0  190206   Rotatif\n",
       "1   54274  Résident"
      ]
     },
     "execution_count": 35,
     "metadata": {},
     "output_type": "execute_result"
    }
   ],
   "source": [
    "pandas.DataFrame(list(horo.transactions_small.aggregate([\n",
    "    { \"$group\": { \"_id\": \"$usager\", \"Nb\": { \"$sum\": 1 } }},\n",
    "    { \"$sort\": { \"Nb\": - 1 }},\n",
    "    { \"$project\": { \"Usager\": \"$_id\", \"Nb\": 1, \"_id\": 0 }}\n",
    "])))"
   ]
  },
  {
   "cell_type": "code",
   "execution_count": 33,
   "metadata": {},
   "outputs": [
    {
     "data": {
      "text/plain": [
       "<matplotlib.axes._subplots.AxesSubplot at 0x21422f6eef0>"
      ]
     },
     "execution_count": 33,
     "metadata": {},
     "output_type": "execute_result"
    },
    {
     "data": {
      "image/png": "[encoded data removed]",
      "text/plain": [
       "<Figure size 432x288 with 1 Axes>"
      ]
     },
     "metadata": {
      "needs_background": "light"
     },
     "output_type": "display_data"
    }
   ],
   "source": [
    "# Déterminer s'il existe un lien entre le moyen de paiement, et le montant d'une part et la durée d'autre part\n",
    "tab3 = pandas.DataFrame(list(horo.transactions_small.find(\n",
    "    projection = { \"moyen de paiement\": 1, \"montant carte\": 1, \"_id\": 0 })))\n",
    "tab3.head()\n",
    "\n",
    "seaborn.violinplot(x = \"moyen de paiement\", y = \"montant carte\", data = tab3)"
   ]
  },
  {
   "cell_type": "code",
   "execution_count": 36,
   "metadata": {},
   "outputs": [
    {
     "data": {
      "text/plain": [
       "Ttest_indResult(statistic=121.32691233600882, pvalue=0.0)"
      ]
     },
     "execution_count": 36,
     "metadata": {},
     "output_type": "execute_result"
    }
   ],
   "source": [
    "import scipy\n",
    "\n",
    "scipy.stats.ttest_ind(*tab3.groupby(\"moyen de paiement\")[\"montant carte\"].apply(lambda x:list(x)))"
   ]
  },
  {
   "cell_type": "code",
   "execution_count": 37,
   "metadata": {},
   "outputs": [
    {
     "data": {
      "text/plain": [
       "Ttest_indResult(statistic=-0.10436693134104658, pvalue=0.9168782499158954)"
      ]
     },
     "execution_count": 37,
     "metadata": {},
     "output_type": "execute_result"
    },
    {
     "data": {
      "image/png": "[encoded data removed]",
      "text/plain": [
       "<Figure size 432x288 with 1 Axes>"
      ]
     },
     "metadata": {
      "needs_background": "light"
     },
     "output_type": "display_data"
    }
   ],
   "source": [
    "tab4 = pandas.DataFrame(list(horo.transactions_small.find(\n",
    "    projection = { \"moyen de paiement\": 1, \"durée payée (h)\": 1, \"_id\": 0 })))\n",
    "seaborn.violinplot(x = \"moyen de paiement\", y = \"durée payée (h)\", data = tab4)\n",
    "\n",
    "scipy.stats.ttest_ind(*tab4.groupby(\"moyen de paiement\")[\"durée payée (h)\"].apply(lambda x:list(x)))"
   ]
  },
  {
   "cell_type": "markdown",
   "metadata": {},
   "source": [
    "## Jointure entre collections\n",
    "\n",
    "Il est possible de réaliser une jointure entre deux collections, dans un aggrégat, avec l'opérateur `$lookup`.\n",
    "\n",
    "Ci-dessous, nous nous restreignons aux transactions de l'horodateur `57080603`. Ensuite, nous récupérons les informations de celui-ci dans l'autre collection (indiquée dans le `from`), via la jointure avec `$lookup`. L'attribut `localField` indique l'attribut à prendre dans la collection en cours et `foreignField` l'attribut à prendre dans la collection indiquée dans le `from`. La liste des mobiliers correspondants (1 seul normalement ici) est retournée dans un `array` nommé via le `as`. Ensuite, nous nous limitons aux 5 premiers résultats pour ne pas alourdir l'affichage."
   ]
  },
  {
   "cell_type": "code",
   "execution_count": 38,
   "metadata": {},
   "outputs": [
    {
     "name": "stdout",
     "output_type": "stream",
     "text": [
      "[{'_id': ObjectId('56eaa9ef9fae0d71f74ec333'),\n",
      "  'date horodateur': datetime.datetime(2014, 7, 10, 12, 27, 33),\n",
      "  'durée payée (h)': 1.75,\n",
      "  'début stationnement': datetime.datetime(2014, 7, 10, 12, 27, 33),\n",
      "  'fin stationnement': datetime.datetime(2014, 7, 10, 14, 12, 33),\n",
      "  'horodateur': 57080603,\n",
      "  'mobilier': [{'_id': ObjectId('56eaa4552d7eb34e4432e0fb'),\n",
      "                'datasetid': 'horodateurs-mobiliers',\n",
      "                'fields': {'adresse': '48 vis-à-vis RUE DE LISBONNE',\n",
      "                           'alim': 'SOLAIRE',\n",
      "                           'arrondt': 8,\n",
      "                           'geo_point_2d': [48.877489999731374,\n",
      "                                            2.311394999713242],\n",
      "                           'geo_shape': {'coordinates': [2.311394999713242,\n",
      "                                                         48.877489999731374],\n",
      "                                         'type': 'Point'},\n",
      "                           'modele': 'SAB3',\n",
      "                           'numhoro': 57080603,\n",
      "                           'objectid': 4383,\n",
      "                           'regime': 'MIX',\n",
      "                           'tarif': '4,00 E MIX 2U',\n",
      "                           'tarifhor': 4.0,\n",
      "                           'zoneres': '8J'},\n",
      "                'geometry': {'coordinates': [2.311394999713242,\n",
      "                                             48.877489999731374],\n",
      "                             'type': 'Point'},\n",
      "                'record_timestamp': '2015-12-02T17:49:46+00:00',\n",
      "                'recordid': '698c75a21ba4f4c34e72f32ea1ecd94f9de8b88c'}],\n",
      "  'montant carte': 4.2,\n",
      "  'moyen de paiement': 'CB',\n",
      "  'usager': 'Rotatif'},\n",
      " {'_id': ObjectId('56eaa9a19fae0d71f72c07b9'),\n",
      "  'date horodateur': datetime.datetime(2014, 6, 2, 14, 2, 1),\n",
      "  'durée payée (h)': 1.0,\n",
      "  'début stationnement': datetime.datetime(2014, 6, 2, 14, 2, 1),\n",
      "  'fin stationnement': datetime.datetime(2014, 6, 2, 15, 2, 1),\n",
      "  'horodateur': 57080603,\n",
      "  'mobilier': [{'_id': ObjectId('56eaa4552d7eb34e4432e0fb'),\n",
      "                'datasetid': 'horodateurs-mobiliers',\n",
      "                'fields': {'adresse': '48 vis-à-vis RUE DE LISBONNE',\n",
      "                           'alim': 'SOLAIRE',\n",
      "                           'arrondt': 8,\n",
      "                           'geo_point_2d': [48.877489999731374,\n",
      "                                            2.311394999713242],\n",
      "                           'geo_shape': {'coordinates': [2.311394999713242,\n",
      "                                                         48.877489999731374],\n",
      "                                         'type': 'Point'},\n",
      "                           'modele': 'SAB3',\n",
      "                           'numhoro': 57080603,\n",
      "                           'objectid': 4383,\n",
      "                           'regime': 'MIX',\n",
      "                           'tarif': '4,00 E MIX 2U',\n",
      "                           'tarifhor': 4.0,\n",
      "                           'zoneres': '8J'},\n",
      "                'geometry': {'coordinates': [2.311394999713242,\n",
      "                                             48.877489999731374],\n",
      "                             'type': 'Point'},\n",
      "                'record_timestamp': '2015-12-02T17:49:46+00:00',\n",
      "                'recordid': '698c75a21ba4f4c34e72f32ea1ecd94f9de8b88c'}],\n",
      "  'montant carte': 2.4,\n",
      "  'moyen de paiement': 'CB',\n",
      "  'usager': 'Rotatif'},\n",
      " {'_id': ObjectId('56eaaa8f9fae0d71f79740f9'),\n",
      "  'date horodateur': datetime.datetime(2014, 10, 1, 20, 28, 57),\n",
      "  'durée payée (h)': 10.0,\n",
      "  'début stationnement': datetime.datetime(2014, 10, 1, 20, 28, 57),\n",
      "  'fin stationnement': datetime.datetime(2014, 10, 2, 19, 0),\n",
      "  'horodateur': 57080603,\n",
      "  'mobilier': [{'_id': ObjectId('56eaa4552d7eb34e4432e0fb'),\n",
      "                'datasetid': 'horodateurs-mobiliers',\n",
      "                'fields': {'adresse': '48 vis-à-vis RUE DE LISBONNE',\n",
      "                           'alim': 'SOLAIRE',\n",
      "                           'arrondt': 8,\n",
      "                           'geo_point_2d': [48.877489999731374,\n",
      "                                            2.311394999713242],\n",
      "                           'geo_shape': {'coordinates': [2.311394999713242,\n",
      "                                                         48.877489999731374],\n",
      "                                         'type': 'Point'},\n",
      "                           'modele': 'SAB3',\n",
      "                           'numhoro': 57080603,\n",
      "                           'objectid': 4383,\n",
      "                           'regime': 'MIX',\n",
      "                           'tarif': '4,00 E MIX 2U',\n",
      "                           'tarifhor': 4.0,\n",
      "                           'zoneres': '8J'},\n",
      "                'geometry': {'coordinates': [2.311394999713242,\n",
      "                                             48.877489999731374],\n",
      "                             'type': 'Point'},\n",
      "                'record_timestamp': '2015-12-02T17:49:46+00:00',\n",
      "                'recordid': '698c75a21ba4f4c34e72f32ea1ecd94f9de8b88c'}],\n",
      "  'montant carte': 0.65,\n",
      "  'moyen de paiement': 'Paris Carte',\n",
      "  'usager': 'Résident'},\n",
      " {'_id': ObjectId('56eaa8989fae0d71f7b31129'),\n",
      "  'date horodateur': datetime.datetime(2014, 2, 14, 17, 25, 53),\n",
      "  'durée payée (h)': 0.75,\n",
      "  'début stationnement': datetime.datetime(2014, 2, 14, 17, 25, 53),\n",
      "  'fin stationnement': datetime.datetime(2014, 2, 14, 18, 10, 53),\n",
      "  'horodateur': 57080603,\n",
      "  'mobilier': [{'_id': ObjectId('56eaa4552d7eb34e4432e0fb'),\n",
      "                'datasetid': 'horodateurs-mobiliers',\n",
      "                'fields': {'adresse': '48 vis-à-vis RUE DE LISBONNE',\n",
      "                           'alim': 'SOLAIRE',\n",
      "                           'arrondt': 8,\n",
      "                           'geo_point_2d': [48.877489999731374,\n",
      "                                            2.311394999713242],\n",
      "                           'geo_shape': {'coordinates': [2.311394999713242,\n",
      "                                                         48.877489999731374],\n",
      "                                         'type': 'Point'},\n",
      "                           'modele': 'SAB3',\n",
      "                           'numhoro': 57080603,\n",
      "                           'objectid': 4383,\n",
      "                           'regime': 'MIX',\n",
      "                           'tarif': '4,00 E MIX 2U',\n",
      "                           'tarifhor': 4.0,\n",
      "                           'zoneres': '8J'},\n",
      "                'geometry': {'coordinates': [2.311394999713242,\n",
      "                                             48.877489999731374],\n",
      "                             'type': 'Point'},\n",
      "                'record_timestamp': '2015-12-02T17:49:46+00:00',\n",
      "                'recordid': '698c75a21ba4f4c34e72f32ea1ecd94f9de8b88c'}],\n",
      "  'montant carte': 1.8,\n",
      "  'moyen de paiement': 'Paris Carte',\n",
      "  'usager': 'Rotatif'},\n",
      " {'_id': ObjectId('56eaaa039fae0d71f7589f71'),\n",
      "  'date horodateur': datetime.datetime(2014, 7, 15, 12, 32, 34),\n",
      "  'durée payée (h)': 1.0,\n",
      "  'début stationnement': datetime.datetime(2014, 7, 15, 12, 32, 34),\n",
      "  'fin stationnement': datetime.datetime(2014, 7, 15, 13, 32, 34),\n",
      "  'horodateur': 57080603,\n",
      "  'mobilier': [{'_id': ObjectId('56eaa4552d7eb34e4432e0fb'),\n",
      "                'datasetid': 'horodateurs-mobiliers',\n",
      "                'fields': {'adresse': '48 vis-à-vis RUE DE LISBONNE',\n",
      "                           'alim': 'SOLAIRE',\n",
      "                           'arrondt': 8,\n",
      "                           'geo_point_2d': [48.877489999731374,\n",
      "                                            2.311394999713242],\n",
      "                           'geo_shape': {'coordinates': [2.311394999713242,\n",
      "                                                         48.877489999731374],\n",
      "                                         'type': 'Point'},\n",
      "                           'modele': 'SAB3',\n",
      "                           'numhoro': 57080603,\n",
      "                           'objectid': 4383,\n",
      "                           'regime': 'MIX',\n",
      "                           'tarif': '4,00 E MIX 2U',\n",
      "                           'tarifhor': 4.0,\n",
      "                           'zoneres': '8J'},\n",
      "                'geometry': {'coordinates': [2.311394999713242,\n",
      "                                             48.877489999731374],\n",
      "                             'type': 'Point'},\n",
      "                'record_timestamp': '2015-12-02T17:49:46+00:00',\n",
      "                'recordid': '698c75a21ba4f4c34e72f32ea1ecd94f9de8b88c'}],\n",
      "  'montant carte': 2.4,\n",
      "  'moyen de paiement': 'CB',\n",
      "  'usager': 'Rotatif'}]\n"
     ]
    }
   ],
   "source": [
    "res = horo.transactions_small.aggregate([\n",
    "    { \"$match\": { \"horodateur\": 57080603}},\n",
    "    { \"$lookup\": {\n",
    "        \"from\": \"mobiliers\",\n",
    "        \"localField\": \"horodateur\",\n",
    "        \"foreignField\": \"fields.numhoro\",\n",
    "        \"as\": \"mobilier\"\n",
    "    }},\n",
    "    { \"$limit\": 5}\n",
    "])\n",
    "liste = list(res)\n",
    "pprint(liste)"
   ]
  },
  {
   "cell_type": "markdown",
   "metadata": {},
   "source": [
    "### A faire\n",
    "\n",
    "1. Calculer le nombre de transactions par arrondissement\n",
    "1. Calculer la répartition du type d'alimentation par arrondissement"
   ]
  },
  {
   "cell_type": "markdown",
   "metadata": {},
   "source": [
    "- Calculer le nombre de transactions par arrondissement"
   ]
  },
  {
   "cell_type": "code",
   "execution_count": 2,
   "metadata": {},
   "outputs": [
    {
     "name": "stdout",
     "output_type": "stream",
     "text": [
      "[{'_id': 6, 'nb': 20},\n",
      " {'_id': 3, 'nb': 36},\n",
      " {'_id': 11, 'nb': 168},\n",
      " {'_id': 12, 'nb': 115},\n",
      " {'_id': 10, 'nb': 248},\n",
      " {'_id': 14, 'nb': 141},\n",
      " {'_id': 15, 'nb': 306},\n",
      " {'_id': 17, 'nb': 261},\n",
      " {'_id': 4, 'nb': 43},\n",
      " {'_id': 19, 'nb': 260},\n",
      " {'_id': 13, 'nb': 328},\n",
      " {'_id': 5, 'nb': 164},\n",
      " {'_id': 8, 'nb': 116},\n",
      " {'_id': 18, 'nb': 176},\n",
      " {'_id': 20, 'nb': 211},\n",
      " {'_id': 9, 'nb': 123},\n",
      " {'_id': 16, 'nb': 425}]\n"
     ]
    }
   ],
   "source": [
    "res = list(horo.mobiliers.aggregate([\n",
    "    { \"$limit\" : 100 },\n",
    "    { \"$lookup\": {\n",
    "        \"from\": \"transactions_small\",\n",
    "        \"localField\": \"fields.numhoro\",\n",
    "        \"foreignField\": \"horodateur\",\n",
    "        \"as\": \"transactions\"\n",
    "    }},\n",
    "    { \"$project\" : { \"Arrondissement\" : \"$fields.arrondt\", \"Nb\" : { \"$size\" : \"$transactions\" }, \"_id\" : 0}},\n",
    "    { \"$group\" : { \"_id\" : \"$Arrondissement\", \"nb\" : { \"$sum\" : \"$Nb\" }}}\n",
    "]))\n",
    "pprint(res)"
   ]
  },
  {
   "cell_type": "code",
   "execution_count": 3,
   "metadata": {},
   "outputs": [
    {
     "name": "stdout",
     "output_type": "stream",
     "text": [
      "[{'_id': 6, 'nb': 20},\n",
      " {'_id': 3, 'nb': 36},\n",
      " {'_id': 11, 'nb': 168},\n",
      " {'_id': 12, 'nb': 115},\n",
      " {'_id': 10, 'nb': 248},\n",
      " {'_id': 14, 'nb': 141},\n",
      " {'_id': 15, 'nb': 306},\n",
      " {'_id': 17, 'nb': 261},\n",
      " {'_id': 4, 'nb': 43},\n",
      " {'_id': 19, 'nb': 260},\n",
      " {'_id': 13, 'nb': 328},\n",
      " {'_id': 5, 'nb': 164},\n",
      " {'_id': 8, 'nb': 116},\n",
      " {'_id': 18, 'nb': 176},\n",
      " {'_id': 20, 'nb': 211},\n",
      " {'_id': 9, 'nb': 123},\n",
      " {'_id': 16, 'nb': 425}]\n"
     ]
    }
   ],
   "source": [
    "res = list(horo.mobiliers.aggregate([\n",
    "    { \"$limit\" : 100 },\n",
    "    { \"$lookup\": {\n",
    "        \"from\": \"transactions_small\",\n",
    "        \"localField\": \"fields.numhoro\",\n",
    "        \"foreignField\": \"horodateur\",\n",
    "        \"as\": \"transactions\"\n",
    "    }},\n",
    "    { \"$unwind\" : \"$transactions\" },\n",
    "    { \"$group\" : { \"_id\" : \"$fields.arrondt\", \"nb\" : { \"$sum\" : 1 }}}\n",
    "]))\n",
    "pprint(res)"
   ]
  },
  {
   "cell_type": "code",
   "execution_count": 41,
   "metadata": {},
   "outputs": [
    {
     "data": {
      "text/html": [
       "<div>\n",
       "<style scoped>\n",
       "    .dataframe tbody tr th:only-of-type {\n",
       "        vertical-align: middle;\n",
       "    }\n",
       "\n",
       "    .dataframe tbody tr th {\n",
       "        vertical-align: top;\n",
       "    }\n",
       "\n",
       "    .dataframe thead th {\n",
       "        text-align: right;\n",
       "    }\n",
       "</style>\n",
       "<table border=\"1\" class=\"dataframe\">\n",
       "  <thead>\n",
       "    <tr style=\"text-align: right;\">\n",
       "      <th></th>\n",
       "      <th>index</th>\n",
       "      <th>Arrondissement</th>\n",
       "      <th>NbTransactions</th>\n",
       "    </tr>\n",
       "  </thead>\n",
       "  <tbody>\n",
       "    <tr>\n",
       "      <th>0</th>\n",
       "      <td>1</td>\n",
       "      <td>3</td>\n",
       "      <td>36</td>\n",
       "    </tr>\n",
       "    <tr>\n",
       "      <th>1</th>\n",
       "      <td>8</td>\n",
       "      <td>4</td>\n",
       "      <td>43</td>\n",
       "    </tr>\n",
       "    <tr>\n",
       "      <th>2</th>\n",
       "      <td>11</td>\n",
       "      <td>5</td>\n",
       "      <td>164</td>\n",
       "    </tr>\n",
       "    <tr>\n",
       "      <th>3</th>\n",
       "      <td>0</td>\n",
       "      <td>6</td>\n",
       "      <td>20</td>\n",
       "    </tr>\n",
       "    <tr>\n",
       "      <th>4</th>\n",
       "      <td>12</td>\n",
       "      <td>8</td>\n",
       "      <td>116</td>\n",
       "    </tr>\n",
       "    <tr>\n",
       "      <th>5</th>\n",
       "      <td>15</td>\n",
       "      <td>9</td>\n",
       "      <td>123</td>\n",
       "    </tr>\n",
       "    <tr>\n",
       "      <th>6</th>\n",
       "      <td>4</td>\n",
       "      <td>10</td>\n",
       "      <td>248</td>\n",
       "    </tr>\n",
       "    <tr>\n",
       "      <th>7</th>\n",
       "      <td>2</td>\n",
       "      <td>11</td>\n",
       "      <td>168</td>\n",
       "    </tr>\n",
       "    <tr>\n",
       "      <th>8</th>\n",
       "      <td>3</td>\n",
       "      <td>12</td>\n",
       "      <td>115</td>\n",
       "    </tr>\n",
       "    <tr>\n",
       "      <th>9</th>\n",
       "      <td>10</td>\n",
       "      <td>13</td>\n",
       "      <td>328</td>\n",
       "    </tr>\n",
       "    <tr>\n",
       "      <th>10</th>\n",
       "      <td>5</td>\n",
       "      <td>14</td>\n",
       "      <td>141</td>\n",
       "    </tr>\n",
       "    <tr>\n",
       "      <th>11</th>\n",
       "      <td>6</td>\n",
       "      <td>15</td>\n",
       "      <td>306</td>\n",
       "    </tr>\n",
       "    <tr>\n",
       "      <th>12</th>\n",
       "      <td>16</td>\n",
       "      <td>16</td>\n",
       "      <td>425</td>\n",
       "    </tr>\n",
       "    <tr>\n",
       "      <th>13</th>\n",
       "      <td>7</td>\n",
       "      <td>17</td>\n",
       "      <td>261</td>\n",
       "    </tr>\n",
       "    <tr>\n",
       "      <th>14</th>\n",
       "      <td>13</td>\n",
       "      <td>18</td>\n",
       "      <td>176</td>\n",
       "    </tr>\n",
       "    <tr>\n",
       "      <th>15</th>\n",
       "      <td>9</td>\n",
       "      <td>19</td>\n",
       "      <td>260</td>\n",
       "    </tr>\n",
       "    <tr>\n",
       "      <th>16</th>\n",
       "      <td>14</td>\n",
       "      <td>20</td>\n",
       "      <td>211</td>\n",
       "    </tr>\n",
       "  </tbody>\n",
       "</table>\n",
       "</div>"
      ],
      "text/plain": [
       "    index  Arrondissement  NbTransactions\n",
       "0       1               3              36\n",
       "1       8               4              43\n",
       "2      11               5             164\n",
       "3       0               6              20\n",
       "4      12               8             116\n",
       "5      15               9             123\n",
       "6       4              10             248\n",
       "7       2              11             168\n",
       "8       3              12             115\n",
       "9      10              13             328\n",
       "10      5              14             141\n",
       "11      6              15             306\n",
       "12     16              16             425\n",
       "13      7              17             261\n",
       "14     13              18             176\n",
       "15      9              19             260\n",
       "16     14              20             211"
      ]
     },
     "execution_count": 41,
     "metadata": {},
     "output_type": "execute_result"
    }
   ],
   "source": [
    "df = pandas.DataFrame(res)\n",
    "df.columns = [ \"Arrondissement\", \"NbTransactions\"]\n",
    "df = df.sort_values(by = \"Arrondissement\").reset_index()\n",
    "df"
   ]
  },
  {
   "cell_type": "code",
   "execution_count": 43,
   "metadata": {
    "scrolled": true
   },
   "outputs": [
    {
     "data": {
      "text/plain": [
       "<seaborn.axisgrid.FacetGrid at 0x21437547b70>"
      ]
     },
     "execution_count": 43,
     "metadata": {},
     "output_type": "execute_result"
    },
    {
     "data": {
      "image/png": "[encoded data removed]",
      "text/plain": [
       "<Figure size 864x288 with 1 Axes>"
      ]
     },
     "metadata": {
      "needs_background": "light"
     },
     "output_type": "display_data"
    }
   ],
   "source": [
    "seaborn.catplot(x = \"Arrondissement\", y = \"NbTransactions\",\n",
    "                   data = df, kind = \"bar\", height = 4, aspect = 3)"
   ]
  },
  {
   "cell_type": "markdown",
   "metadata": {},
   "source": [
    "- Calculer la répartition du type d'alimentation par arrondissement"
   ]
  },
  {
   "cell_type": "code",
   "execution_count": null,
   "metadata": {},
   "outputs": [],
   "source": [
    "res = list(horo.mobiliers.aggregate([\n",
    "    { \"$lookup\": {\n",
    "        \"from\": \"transactions_small\",\n",
    "        \"localField\": \"fields.numhoro\",\n",
    "        \"foreignField\": \"horodateur\",\n",
    "        \"as\": \"transactions\"\n",
    "    }},\n",
    "    { \"$unwind\" : \"$transactions\" },\n",
    "    { \"$limit\" : 10000},\n",
    "    { \"$group\" : { \"_id\" : { \"arrondissement\" : \"$fields.arrondt\", \"type\" : \"$fields.alim\" }, \"nb\" : { \"$sum\" : 1 }}},\n",
    "    { \"$match\" : { \"_id.type\" : {\"$exists\" : True }}}\n",
    "]))\n",
    "pprint(res)"
   ]
  },
  {
   "cell_type": "code",
   "execution_count": 45,
   "metadata": {},
   "outputs": [
    {
     "data": {
      "text/html": [
       "<div>\n",
       "<style scoped>\n",
       "    .dataframe tbody tr th:only-of-type {\n",
       "        vertical-align: middle;\n",
       "    }\n",
       "\n",
       "    .dataframe tbody tr th {\n",
       "        vertical-align: top;\n",
       "    }\n",
       "\n",
       "    .dataframe thead th {\n",
       "        text-align: right;\n",
       "    }\n",
       "</style>\n",
       "<table border=\"1\" class=\"dataframe\">\n",
       "  <thead>\n",
       "    <tr style=\"text-align: right;\">\n",
       "      <th></th>\n",
       "      <th>nb</th>\n",
       "      <th>Arrondissement</th>\n",
       "      <th>Alimentation</th>\n",
       "    </tr>\n",
       "  </thead>\n",
       "  <tbody>\n",
       "    <tr>\n",
       "      <th>0</th>\n",
       "      <td>62</td>\n",
       "      <td>5</td>\n",
       "      <td>SOLAIRE</td>\n",
       "    </tr>\n",
       "    <tr>\n",
       "      <th>1</th>\n",
       "      <td>49</td>\n",
       "      <td>1</td>\n",
       "      <td>SOLAIRE</td>\n",
       "    </tr>\n",
       "    <tr>\n",
       "      <th>2</th>\n",
       "      <td>101</td>\n",
       "      <td>18</td>\n",
       "      <td>SOLAIRE</td>\n",
       "    </tr>\n",
       "    <tr>\n",
       "      <th>3</th>\n",
       "      <td>259</td>\n",
       "      <td>6</td>\n",
       "      <td>SOLAIRE</td>\n",
       "    </tr>\n",
       "    <tr>\n",
       "      <th>4</th>\n",
       "      <td>493</td>\n",
       "      <td>5</td>\n",
       "      <td>PILE</td>\n",
       "    </tr>\n",
       "    <tr>\n",
       "      <th>5</th>\n",
       "      <td>186</td>\n",
       "      <td>4</td>\n",
       "      <td>SOLAIRE</td>\n",
       "    </tr>\n",
       "    <tr>\n",
       "      <th>6</th>\n",
       "      <td>313</td>\n",
       "      <td>18</td>\n",
       "      <td>PILE</td>\n",
       "    </tr>\n",
       "    <tr>\n",
       "      <th>7</th>\n",
       "      <td>486</td>\n",
       "      <td>19</td>\n",
       "      <td>PILE</td>\n",
       "    </tr>\n",
       "    <tr>\n",
       "      <th>8</th>\n",
       "      <td>863</td>\n",
       "      <td>16</td>\n",
       "      <td>PILE</td>\n",
       "    </tr>\n",
       "    <tr>\n",
       "      <th>9</th>\n",
       "      <td>717</td>\n",
       "      <td>8</td>\n",
       "      <td>SOLAIRE</td>\n",
       "    </tr>\n",
       "    <tr>\n",
       "      <th>10</th>\n",
       "      <td>374</td>\n",
       "      <td>20</td>\n",
       "      <td>SOLAIRE</td>\n",
       "    </tr>\n",
       "    <tr>\n",
       "      <th>11</th>\n",
       "      <td>533</td>\n",
       "      <td>12</td>\n",
       "      <td>PILE</td>\n",
       "    </tr>\n",
       "    <tr>\n",
       "      <th>12</th>\n",
       "      <td>886</td>\n",
       "      <td>13</td>\n",
       "      <td>SOLAIRE</td>\n",
       "    </tr>\n",
       "    <tr>\n",
       "      <th>13</th>\n",
       "      <td>96</td>\n",
       "      <td>19</td>\n",
       "      <td>SOLAIRE</td>\n",
       "    </tr>\n",
       "    <tr>\n",
       "      <th>14</th>\n",
       "      <td>507</td>\n",
       "      <td>15</td>\n",
       "      <td>PILE</td>\n",
       "    </tr>\n",
       "    <tr>\n",
       "      <th>15</th>\n",
       "      <td>327</td>\n",
       "      <td>10</td>\n",
       "      <td>PILE</td>\n",
       "    </tr>\n",
       "    <tr>\n",
       "      <th>16</th>\n",
       "      <td>434</td>\n",
       "      <td>9</td>\n",
       "      <td>SOLAIRE</td>\n",
       "    </tr>\n",
       "    <tr>\n",
       "      <th>17</th>\n",
       "      <td>62</td>\n",
       "      <td>3</td>\n",
       "      <td>SOLAIRE</td>\n",
       "    </tr>\n",
       "    <tr>\n",
       "      <th>18</th>\n",
       "      <td>210</td>\n",
       "      <td>14</td>\n",
       "      <td>SOLAIRE</td>\n",
       "    </tr>\n",
       "    <tr>\n",
       "      <th>19</th>\n",
       "      <td>358</td>\n",
       "      <td>15</td>\n",
       "      <td>SOLAIRE</td>\n",
       "    </tr>\n",
       "    <tr>\n",
       "      <th>20</th>\n",
       "      <td>15</td>\n",
       "      <td>10</td>\n",
       "      <td>SOLAIRE</td>\n",
       "    </tr>\n",
       "    <tr>\n",
       "      <th>21</th>\n",
       "      <td>1110</td>\n",
       "      <td>17</td>\n",
       "      <td>SOLAIRE</td>\n",
       "    </tr>\n",
       "    <tr>\n",
       "      <th>22</th>\n",
       "      <td>313</td>\n",
       "      <td>16</td>\n",
       "      <td>SOLAIRE</td>\n",
       "    </tr>\n",
       "    <tr>\n",
       "      <th>23</th>\n",
       "      <td>150</td>\n",
       "      <td>7</td>\n",
       "      <td>PILE</td>\n",
       "    </tr>\n",
       "    <tr>\n",
       "      <th>24</th>\n",
       "      <td>576</td>\n",
       "      <td>11</td>\n",
       "      <td>SOLAIRE</td>\n",
       "    </tr>\n",
       "    <tr>\n",
       "      <th>25</th>\n",
       "      <td>351</td>\n",
       "      <td>14</td>\n",
       "      <td>PILE</td>\n",
       "    </tr>\n",
       "    <tr>\n",
       "      <th>26</th>\n",
       "      <td>108</td>\n",
       "      <td>12</td>\n",
       "      <td>SOLAIRE</td>\n",
       "    </tr>\n",
       "  </tbody>\n",
       "</table>\n",
       "</div>"
      ],
      "text/plain": [
       "      nb  Arrondissement Alimentation\n",
       "0     62               5      SOLAIRE\n",
       "1     49               1      SOLAIRE\n",
       "2    101              18      SOLAIRE\n",
       "3    259               6      SOLAIRE\n",
       "4    493               5         PILE\n",
       "5    186               4      SOLAIRE\n",
       "6    313              18         PILE\n",
       "7    486              19         PILE\n",
       "8    863              16         PILE\n",
       "9    717               8      SOLAIRE\n",
       "10   374              20      SOLAIRE\n",
       "11   533              12         PILE\n",
       "12   886              13      SOLAIRE\n",
       "13    96              19      SOLAIRE\n",
       "14   507              15         PILE\n",
       "15   327              10         PILE\n",
       "16   434               9      SOLAIRE\n",
       "17    62               3      SOLAIRE\n",
       "18   210              14      SOLAIRE\n",
       "19   358              15      SOLAIRE\n",
       "20    15              10      SOLAIRE\n",
       "21  1110              17      SOLAIRE\n",
       "22   313              16      SOLAIRE\n",
       "23   150               7         PILE\n",
       "24   576              11      SOLAIRE\n",
       "25   351              14         PILE\n",
       "26   108              12      SOLAIRE"
      ]
     },
     "execution_count": 45,
     "metadata": {},
     "output_type": "execute_result"
    }
   ],
   "source": [
    "df = pandas.DataFrame(res)\n",
    "df = df.assign(\n",
    "    Arrondissement = [a['arrondissement'] for a in df._id],\n",
    "    Alimentation = [a['type'] for a in df._id]\n",
    ").drop(\"_id\", 1)\n",
    "df"
   ]
  },
  {
   "cell_type": "code",
   "execution_count": 47,
   "metadata": {},
   "outputs": [
    {
     "data": {
      "text/plain": [
       "<seaborn.axisgrid.FacetGrid at 0x21423825c18>"
      ]
     },
     "execution_count": 47,
     "metadata": {},
     "output_type": "execute_result"
    },
    {
     "data": {
      "image/png": "[encoded data removed]",
      "text/plain": [
       "<Figure size 4320x864 with 19 Axes>"
      ]
     },
     "metadata": {
      "needs_background": "light"
     },
     "output_type": "display_data"
    }
   ],
   "source": [
    "seaborn.catplot(x = \"Alimentation\", y = \"nb\",\n",
    "                   col = \"Arrondissement\", col_wrap = 10,\n",
    "                   data = df, kind = \"bar\", height = 6)"
   ]
  },
  {
   "cell_type": "code",
   "execution_count": 48,
   "metadata": {},
   "outputs": [
    {
     "data": {
      "text/html": [
       "<div>\n",
       "<style scoped>\n",
       "    .dataframe tbody tr th:only-of-type {\n",
       "        vertical-align: middle;\n",
       "    }\n",
       "\n",
       "    .dataframe tbody tr th {\n",
       "        vertical-align: top;\n",
       "    }\n",
       "\n",
       "    .dataframe thead th {\n",
       "        text-align: right;\n",
       "    }\n",
       "</style>\n",
       "<table border=\"1\" class=\"dataframe\">\n",
       "  <thead>\n",
       "    <tr style=\"text-align: right;\">\n",
       "      <th>Alimentation</th>\n",
       "      <th>PILE</th>\n",
       "      <th>SOLAIRE</th>\n",
       "      <th>Arrondissement</th>\n",
       "    </tr>\n",
       "    <tr>\n",
       "      <th>Arrondissement</th>\n",
       "      <th></th>\n",
       "      <th></th>\n",
       "      <th></th>\n",
       "    </tr>\n",
       "  </thead>\n",
       "  <tbody>\n",
       "    <tr>\n",
       "      <th>1</th>\n",
       "      <td>0.000000</td>\n",
       "      <td>1.000000</td>\n",
       "      <td>1</td>\n",
       "    </tr>\n",
       "    <tr>\n",
       "      <th>3</th>\n",
       "      <td>0.000000</td>\n",
       "      <td>1.000000</td>\n",
       "      <td>3</td>\n",
       "    </tr>\n",
       "    <tr>\n",
       "      <th>4</th>\n",
       "      <td>0.000000</td>\n",
       "      <td>1.000000</td>\n",
       "      <td>4</td>\n",
       "    </tr>\n",
       "    <tr>\n",
       "      <th>5</th>\n",
       "      <td>0.888288</td>\n",
       "      <td>0.111712</td>\n",
       "      <td>5</td>\n",
       "    </tr>\n",
       "    <tr>\n",
       "      <th>6</th>\n",
       "      <td>0.000000</td>\n",
       "      <td>1.000000</td>\n",
       "      <td>6</td>\n",
       "    </tr>\n",
       "    <tr>\n",
       "      <th>7</th>\n",
       "      <td>1.000000</td>\n",
       "      <td>0.000000</td>\n",
       "      <td>7</td>\n",
       "    </tr>\n",
       "    <tr>\n",
       "      <th>8</th>\n",
       "      <td>0.000000</td>\n",
       "      <td>1.000000</td>\n",
       "      <td>8</td>\n",
       "    </tr>\n",
       "    <tr>\n",
       "      <th>9</th>\n",
       "      <td>0.000000</td>\n",
       "      <td>1.000000</td>\n",
       "      <td>9</td>\n",
       "    </tr>\n",
       "    <tr>\n",
       "      <th>10</th>\n",
       "      <td>0.956140</td>\n",
       "      <td>0.043860</td>\n",
       "      <td>10</td>\n",
       "    </tr>\n",
       "    <tr>\n",
       "      <th>11</th>\n",
       "      <td>0.000000</td>\n",
       "      <td>1.000000</td>\n",
       "      <td>11</td>\n",
       "    </tr>\n",
       "    <tr>\n",
       "      <th>12</th>\n",
       "      <td>0.831513</td>\n",
       "      <td>0.168487</td>\n",
       "      <td>12</td>\n",
       "    </tr>\n",
       "    <tr>\n",
       "      <th>13</th>\n",
       "      <td>0.000000</td>\n",
       "      <td>1.000000</td>\n",
       "      <td>13</td>\n",
       "    </tr>\n",
       "    <tr>\n",
       "      <th>14</th>\n",
       "      <td>0.625668</td>\n",
       "      <td>0.374332</td>\n",
       "      <td>14</td>\n",
       "    </tr>\n",
       "    <tr>\n",
       "      <th>15</th>\n",
       "      <td>0.586127</td>\n",
       "      <td>0.413873</td>\n",
       "      <td>15</td>\n",
       "    </tr>\n",
       "    <tr>\n",
       "      <th>16</th>\n",
       "      <td>0.733844</td>\n",
       "      <td>0.266156</td>\n",
       "      <td>16</td>\n",
       "    </tr>\n",
       "    <tr>\n",
       "      <th>17</th>\n",
       "      <td>0.000000</td>\n",
       "      <td>1.000000</td>\n",
       "      <td>17</td>\n",
       "    </tr>\n",
       "    <tr>\n",
       "      <th>18</th>\n",
       "      <td>0.756039</td>\n",
       "      <td>0.243961</td>\n",
       "      <td>18</td>\n",
       "    </tr>\n",
       "    <tr>\n",
       "      <th>19</th>\n",
       "      <td>0.835052</td>\n",
       "      <td>0.164948</td>\n",
       "      <td>19</td>\n",
       "    </tr>\n",
       "    <tr>\n",
       "      <th>20</th>\n",
       "      <td>0.000000</td>\n",
       "      <td>1.000000</td>\n",
       "      <td>20</td>\n",
       "    </tr>\n",
       "  </tbody>\n",
       "</table>\n",
       "</div>"
      ],
      "text/plain": [
       "Alimentation        PILE   SOLAIRE  Arrondissement\n",
       "Arrondissement                                    \n",
       "1               0.000000  1.000000               1\n",
       "3               0.000000  1.000000               3\n",
       "4               0.000000  1.000000               4\n",
       "5               0.888288  0.111712               5\n",
       "6               0.000000  1.000000               6\n",
       "7               1.000000  0.000000               7\n",
       "8               0.000000  1.000000               8\n",
       "9               0.000000  1.000000               9\n",
       "10              0.956140  0.043860              10\n",
       "11              0.000000  1.000000              11\n",
       "12              0.831513  0.168487              12\n",
       "13              0.000000  1.000000              13\n",
       "14              0.625668  0.374332              14\n",
       "15              0.586127  0.413873              15\n",
       "16              0.733844  0.266156              16\n",
       "17              0.000000  1.000000              17\n",
       "18              0.756039  0.243961              18\n",
       "19              0.835052  0.164948              19\n",
       "20              0.000000  1.000000              20"
      ]
     },
     "execution_count": 48,
     "metadata": {},
     "output_type": "execute_result"
    }
   ],
   "source": [
    "cross = pandas.crosstab(df.Arrondissement, df.Alimentation, values = df.nb, aggfunc = sum, normalize = \"index\")\n",
    "cross = cross.assign(Arrondissement = cross.index)\n",
    "cross"
   ]
  },
  {
   "cell_type": "code",
   "execution_count": 49,
   "metadata": {},
   "outputs": [
    {
     "data": {
      "text/html": [
       "<div>\n",
       "<style scoped>\n",
       "    .dataframe tbody tr th:only-of-type {\n",
       "        vertical-align: middle;\n",
       "    }\n",
       "\n",
       "    .dataframe tbody tr th {\n",
       "        vertical-align: top;\n",
       "    }\n",
       "\n",
       "    .dataframe thead th {\n",
       "        text-align: right;\n",
       "    }\n",
       "</style>\n",
       "<table border=\"1\" class=\"dataframe\">\n",
       "  <thead>\n",
       "    <tr style=\"text-align: right;\">\n",
       "      <th></th>\n",
       "      <th>Arrondissement</th>\n",
       "      <th>Alimentation</th>\n",
       "      <th>value</th>\n",
       "    </tr>\n",
       "  </thead>\n",
       "  <tbody>\n",
       "    <tr>\n",
       "      <th>0</th>\n",
       "      <td>1</td>\n",
       "      <td>PILE</td>\n",
       "      <td>0.000000</td>\n",
       "    </tr>\n",
       "    <tr>\n",
       "      <th>1</th>\n",
       "      <td>3</td>\n",
       "      <td>PILE</td>\n",
       "      <td>0.000000</td>\n",
       "    </tr>\n",
       "    <tr>\n",
       "      <th>2</th>\n",
       "      <td>4</td>\n",
       "      <td>PILE</td>\n",
       "      <td>0.000000</td>\n",
       "    </tr>\n",
       "    <tr>\n",
       "      <th>3</th>\n",
       "      <td>5</td>\n",
       "      <td>PILE</td>\n",
       "      <td>88.828829</td>\n",
       "    </tr>\n",
       "    <tr>\n",
       "      <th>4</th>\n",
       "      <td>6</td>\n",
       "      <td>PILE</td>\n",
       "      <td>0.000000</td>\n",
       "    </tr>\n",
       "    <tr>\n",
       "      <th>5</th>\n",
       "      <td>7</td>\n",
       "      <td>PILE</td>\n",
       "      <td>100.000000</td>\n",
       "    </tr>\n",
       "    <tr>\n",
       "      <th>6</th>\n",
       "      <td>8</td>\n",
       "      <td>PILE</td>\n",
       "      <td>0.000000</td>\n",
       "    </tr>\n",
       "    <tr>\n",
       "      <th>7</th>\n",
       "      <td>9</td>\n",
       "      <td>PILE</td>\n",
       "      <td>0.000000</td>\n",
       "    </tr>\n",
       "    <tr>\n",
       "      <th>8</th>\n",
       "      <td>10</td>\n",
       "      <td>PILE</td>\n",
       "      <td>95.614035</td>\n",
       "    </tr>\n",
       "    <tr>\n",
       "      <th>9</th>\n",
       "      <td>11</td>\n",
       "      <td>PILE</td>\n",
       "      <td>0.000000</td>\n",
       "    </tr>\n",
       "    <tr>\n",
       "      <th>10</th>\n",
       "      <td>12</td>\n",
       "      <td>PILE</td>\n",
       "      <td>83.151326</td>\n",
       "    </tr>\n",
       "    <tr>\n",
       "      <th>11</th>\n",
       "      <td>13</td>\n",
       "      <td>PILE</td>\n",
       "      <td>0.000000</td>\n",
       "    </tr>\n",
       "    <tr>\n",
       "      <th>12</th>\n",
       "      <td>14</td>\n",
       "      <td>PILE</td>\n",
       "      <td>62.566845</td>\n",
       "    </tr>\n",
       "    <tr>\n",
       "      <th>13</th>\n",
       "      <td>15</td>\n",
       "      <td>PILE</td>\n",
       "      <td>58.612717</td>\n",
       "    </tr>\n",
       "    <tr>\n",
       "      <th>14</th>\n",
       "      <td>16</td>\n",
       "      <td>PILE</td>\n",
       "      <td>73.384354</td>\n",
       "    </tr>\n",
       "    <tr>\n",
       "      <th>15</th>\n",
       "      <td>17</td>\n",
       "      <td>PILE</td>\n",
       "      <td>0.000000</td>\n",
       "    </tr>\n",
       "    <tr>\n",
       "      <th>16</th>\n",
       "      <td>18</td>\n",
       "      <td>PILE</td>\n",
       "      <td>75.603865</td>\n",
       "    </tr>\n",
       "    <tr>\n",
       "      <th>17</th>\n",
       "      <td>19</td>\n",
       "      <td>PILE</td>\n",
       "      <td>83.505155</td>\n",
       "    </tr>\n",
       "    <tr>\n",
       "      <th>18</th>\n",
       "      <td>20</td>\n",
       "      <td>PILE</td>\n",
       "      <td>0.000000</td>\n",
       "    </tr>\n",
       "    <tr>\n",
       "      <th>19</th>\n",
       "      <td>1</td>\n",
       "      <td>SOLAIRE</td>\n",
       "      <td>100.000000</td>\n",
       "    </tr>\n",
       "    <tr>\n",
       "      <th>20</th>\n",
       "      <td>3</td>\n",
       "      <td>SOLAIRE</td>\n",
       "      <td>100.000000</td>\n",
       "    </tr>\n",
       "    <tr>\n",
       "      <th>21</th>\n",
       "      <td>4</td>\n",
       "      <td>SOLAIRE</td>\n",
       "      <td>100.000000</td>\n",
       "    </tr>\n",
       "    <tr>\n",
       "      <th>22</th>\n",
       "      <td>5</td>\n",
       "      <td>SOLAIRE</td>\n",
       "      <td>11.171171</td>\n",
       "    </tr>\n",
       "    <tr>\n",
       "      <th>23</th>\n",
       "      <td>6</td>\n",
       "      <td>SOLAIRE</td>\n",
       "      <td>100.000000</td>\n",
       "    </tr>\n",
       "    <tr>\n",
       "      <th>24</th>\n",
       "      <td>7</td>\n",
       "      <td>SOLAIRE</td>\n",
       "      <td>0.000000</td>\n",
       "    </tr>\n",
       "    <tr>\n",
       "      <th>25</th>\n",
       "      <td>8</td>\n",
       "      <td>SOLAIRE</td>\n",
       "      <td>100.000000</td>\n",
       "    </tr>\n",
       "    <tr>\n",
       "      <th>26</th>\n",
       "      <td>9</td>\n",
       "      <td>SOLAIRE</td>\n",
       "      <td>100.000000</td>\n",
       "    </tr>\n",
       "    <tr>\n",
       "      <th>27</th>\n",
       "      <td>10</td>\n",
       "      <td>SOLAIRE</td>\n",
       "      <td>4.385965</td>\n",
       "    </tr>\n",
       "    <tr>\n",
       "      <th>28</th>\n",
       "      <td>11</td>\n",
       "      <td>SOLAIRE</td>\n",
       "      <td>100.000000</td>\n",
       "    </tr>\n",
       "    <tr>\n",
       "      <th>29</th>\n",
       "      <td>12</td>\n",
       "      <td>SOLAIRE</td>\n",
       "      <td>16.848674</td>\n",
       "    </tr>\n",
       "    <tr>\n",
       "      <th>30</th>\n",
       "      <td>13</td>\n",
       "      <td>SOLAIRE</td>\n",
       "      <td>100.000000</td>\n",
       "    </tr>\n",
       "    <tr>\n",
       "      <th>31</th>\n",
       "      <td>14</td>\n",
       "      <td>SOLAIRE</td>\n",
       "      <td>37.433155</td>\n",
       "    </tr>\n",
       "    <tr>\n",
       "      <th>32</th>\n",
       "      <td>15</td>\n",
       "      <td>SOLAIRE</td>\n",
       "      <td>41.387283</td>\n",
       "    </tr>\n",
       "    <tr>\n",
       "      <th>33</th>\n",
       "      <td>16</td>\n",
       "      <td>SOLAIRE</td>\n",
       "      <td>26.615646</td>\n",
       "    </tr>\n",
       "    <tr>\n",
       "      <th>34</th>\n",
       "      <td>17</td>\n",
       "      <td>SOLAIRE</td>\n",
       "      <td>100.000000</td>\n",
       "    </tr>\n",
       "    <tr>\n",
       "      <th>35</th>\n",
       "      <td>18</td>\n",
       "      <td>SOLAIRE</td>\n",
       "      <td>24.396135</td>\n",
       "    </tr>\n",
       "    <tr>\n",
       "      <th>36</th>\n",
       "      <td>19</td>\n",
       "      <td>SOLAIRE</td>\n",
       "      <td>16.494845</td>\n",
       "    </tr>\n",
       "    <tr>\n",
       "      <th>37</th>\n",
       "      <td>20</td>\n",
       "      <td>SOLAIRE</td>\n",
       "      <td>100.000000</td>\n",
       "    </tr>\n",
       "  </tbody>\n",
       "</table>\n",
       "</div>"
      ],
      "text/plain": [
       "    Arrondissement Alimentation       value\n",
       "0                1         PILE    0.000000\n",
       "1                3         PILE    0.000000\n",
       "2                4         PILE    0.000000\n",
       "3                5         PILE   88.828829\n",
       "4                6         PILE    0.000000\n",
       "5                7         PILE  100.000000\n",
       "6                8         PILE    0.000000\n",
       "7                9         PILE    0.000000\n",
       "8               10         PILE   95.614035\n",
       "9               11         PILE    0.000000\n",
       "10              12         PILE   83.151326\n",
       "11              13         PILE    0.000000\n",
       "12              14         PILE   62.566845\n",
       "13              15         PILE   58.612717\n",
       "14              16         PILE   73.384354\n",
       "15              17         PILE    0.000000\n",
       "16              18         PILE   75.603865\n",
       "17              19         PILE   83.505155\n",
       "18              20         PILE    0.000000\n",
       "19               1      SOLAIRE  100.000000\n",
       "20               3      SOLAIRE  100.000000\n",
       "21               4      SOLAIRE  100.000000\n",
       "22               5      SOLAIRE   11.171171\n",
       "23               6      SOLAIRE  100.000000\n",
       "24               7      SOLAIRE    0.000000\n",
       "25               8      SOLAIRE  100.000000\n",
       "26               9      SOLAIRE  100.000000\n",
       "27              10      SOLAIRE    4.385965\n",
       "28              11      SOLAIRE  100.000000\n",
       "29              12      SOLAIRE   16.848674\n",
       "30              13      SOLAIRE  100.000000\n",
       "31              14      SOLAIRE   37.433155\n",
       "32              15      SOLAIRE   41.387283\n",
       "33              16      SOLAIRE   26.615646\n",
       "34              17      SOLAIRE  100.000000\n",
       "35              18      SOLAIRE   24.396135\n",
       "36              19      SOLAIRE   16.494845\n",
       "37              20      SOLAIRE  100.000000"
      ]
     },
     "execution_count": 49,
     "metadata": {},
     "output_type": "execute_result"
    }
   ],
   "source": [
    "crossm = pandas.melt(cross, id_vars = \"Arrondissement\")\n",
    "crossm = crossm.assign(value = 100 * crossm.value)\n",
    "crossm"
   ]
  },
  {
   "cell_type": "code",
   "execution_count": 50,
   "metadata": {},
   "outputs": [
    {
     "data": {
      "text/plain": [
       "<seaborn.axisgrid.FacetGrid at 0x2142c15d358>"
      ]
     },
     "execution_count": 50,
     "metadata": {},
     "output_type": "execute_result"
    },
    {
     "data": {
      "image/png": "[encoded data removed]",
      "text/plain": [
       "<Figure size 4320x864 with 19 Axes>"
      ]
     },
     "metadata": {
      "needs_background": "light"
     },
     "output_type": "display_data"
    }
   ],
   "source": [
    "seaborn.catplot(x = \"Alimentation\", y = \"value\", \n",
    "                   col = \"Arrondissement\", col_wrap = 10,\n",
    "                   data = crossm, kind = \"bar\", height = 6)"
   ]
  }
 ],
 "metadata": {
  "kernelspec": {
   "display_name": "Python 3",
   "language": "python",
   "name": "python3"
  },
  "language_info": {
   "codemirror_mode": {
    "name": "ipython",
    "version": 3
   },
   "file_extension": ".py",
   "mimetype": "text/x-python",
   "name": "python",
   "nbconvert_exporter": "python",
   "pygments_lexer": "ipython3",
   "version": "3.7.1"
  }
 },
 "nbformat": 4,
 "nbformat_minor": 2
}
